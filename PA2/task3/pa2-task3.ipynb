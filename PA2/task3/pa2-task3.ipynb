{
 "cells": [
  {
   "cell_type": "markdown",
   "metadata": {},
   "source": [
    "# section 3.1 (part A): "
   ]
  },
  {
   "cell_type": "code",
   "execution_count": 6,
   "metadata": {
    "_cell_guid": "b1076dfc-b9ad-4769-8c92-a6c4dae69d19",
    "_uuid": "8f2839f25d086af736a60e9eeb907d3b93b6e0e5",
    "trusted": true
   },
   "outputs": [],
   "source": [
    "import torch\n",
    "import torch.nn as nn\n",
    "import torch.optim as optim\n",
    "from torch.utils.data import DataLoader, random_split, TensorDataset\n",
    "from torchvision.datasets import ImageFolder\n",
    "import torchvision.transforms as transforms\n",
    "from transformers import CLIPProcessor, CLIPModel, CLIPTokenizer\n",
    "from tqdm import tqdm\n",
    "import os\n",
    "import random\n",
    "import numpy as np\n",
    "\n",
    "os.environ['CUDA_LAUNCH_BLOCKING'] = \"1\"\n",
    "os.environ[\"TOKENIZERS_PARALLELISM\"] = \"false\"\n",
    "\n",
    "# ==========================================================================================\n",
    "# STEP 1: CONFIGURATION\n",
    "# All settings are here to make the script easy to modify and reproduce.\n",
    "# ==========================================================================================\n",
    "CONFIG_3_1  = {\n",
    "    # \"dataset_path\": \"/kaggle/input/pacs-dataset/pacs_data\",  # Path to the parent directory of the dataset\n",
    "    \"dataset_path\": \"D:\\Salaar Masood\\pacs-dataset\\pacs_data\",  # Path to the parent directory of the dataset\n",
    "    \"domains\": [\"art_painting\", \"cartoon\", \"photo\", \"sketch\"],\n",
    "    \"class_names\": [\"dog\", \"elephant\", \"giraffe\", \"guitar\", \"horse\", \"house\", \"person\"], # From PACS\n",
    "    \"model_name\": \"openai/clip-vit-base-patch32\",  # A standard CLIP model\n",
    "    \"batch_size\": 128,\n",
    "    \"device\": \"cuda\" if torch.cuda.is_available() else \"cpu\",\n",
    "    \"seed\": 42,\n",
    "    \"prompt_strategies\": {\n",
    "        \"generic\": \"a photo of a {}.\",\n",
    "        \"domain_specific\": {\n",
    "            \"art_painting\": \"an artwork of a {}.\",\n",
    "            \"cartoon\": \"a cartoon of a {}.\",\n",
    "            \"photo\": \"a photo of a {}.\",\n",
    "            \"sketch\": \"a sketch of a {}.\",\n",
    "        }\n",
    "    },\n",
    "    \"selected_strategy\": \"generic\",\n",
    "    \"linear_probe\": {\n",
    "        \"pairs_to_run\": [\n",
    "            {\"source\": \"photo\", \"target\": \"sketch\"},\n",
    "            {\"source\": \"photo\", \"target\": \"art_painting\"},\n",
    "            {\"source\": \"art_painting\", \"target\": \"sketch\"},\n",
    "        ],\n",
    "        \"train_split_ratio\": 0.8, # 80% for training, 20% for source validation\n",
    "        \"num_epochs\": 10,\n",
    "        \"learning_rate\": 1e-3,\n",
    "        \"feature_dim\": 512, # From clip-vit-base-patch32\n",
    "        \"num_classes\": 7,   # For PACS dataset\n",
    "    },\n",
    "    \"dapl_prompt\": {\n",
    "        \"pairs_to_run\": [\n",
    "            {\"source\": \"photo\", \"target\": \"sketch\"},\n",
    "            {\"source\": \"photo\", \"target\": \"art_painting\"},\n",
    "            {\"source\": \"art_painting\", \"target\": \"sketch\"},\n",
    "        ],\n",
    "        \"num_epochs\": 10,\n",
    "        \"learning_rate\": 2e-4, # A smaller LR is good for fine-tuning prompts\n",
    "        # Hyperparameters adapted from the DAPL paper\n",
    "        \"n_ctx\": 16,  # Number of domain-agnostic context vectors\n",
    "        \"n_dmx\": 16,  # Number of domain-specific context vectors\n",
    "        \"T\": 1.0,     # Temperature for sharpening pseudo-label distribution\n",
    "        \"TAU\": 0.7,   # Confidence threshold for pseudo-labels\n",
    "        \"U\": 1.0,     # Weight for the unsupervised loss\n",
    "    }\n",
    "}"
   ]
  },
  {
   "cell_type": "code",
   "execution_count": 7,
   "metadata": {
    "trusted": true
   },
   "outputs": [
    {
     "name": "stdout",
     "output_type": "stream",
     "text": [
      "Random seed set to: 42\n"
     ]
    }
   ],
   "source": [
    "def set_seed(seed):\n",
    "    \"\"\"\n",
    "    Sets the random seed for reproducibility across different libraries.\n",
    "    \"\"\"\n",
    "    random.seed(seed)\n",
    "    np.random.seed(seed)\n",
    "    torch.manual_seed(seed)\n",
    "    if torch.cuda.is_available():\n",
    "        torch.cuda.manual_seed(seed)\n",
    "        torch.cuda.manual_seed_all(seed)\n",
    "    # The following two lines are often recommended for Torch reproducibility\n",
    "    torch.backends.cudnn.deterministic = True\n",
    "    torch.backends.cudnn.benchmark = False\n",
    "\n",
    "\n",
    "set_seed(CONFIG_3_1 [\"seed\"])\n",
    "print(f\"Random seed set to: {CONFIG_3_1 ['seed']}\")"
   ]
  },
  {
   "cell_type": "code",
   "execution_count": 8,
   "metadata": {
    "trusted": true
   },
   "outputs": [],
   "source": [
    "# ==========================================================================================\n",
    "# STEP 2: DATA LOADING FUNCTION\n",
    "# This function creates a DataLoader for a specific domain's test set.\n",
    "# ==========================================================================================\n",
    "def get_dataloader(domain_name, transform, batch_size, dataset_path):\n",
    "    \"\"\"\n",
    "    Creates a DataLoader for the test set of a specified domain.\n",
    "    Args:\n",
    "        domain_name (str): The name of the domain (e.g., 'art_painting').\n",
    "        transform: The image transformation pipeline from the CLIP processor.\n",
    "        batch_size (int): The number of samples per batch.\n",
    "        dataset_path (str): The root path of the dataset.\n",
    "    Returns:\n",
    "        A tuple of (DataLoader, list of class names).\n",
    "    \"\"\"\n",
    "    domain_path = os.path.join(dataset_path, domain_name)\n",
    "    if not os.path.exists(domain_path):\n",
    "        raise FileNotFoundError(f\"Domain folder not found at: {domain_path}\")\n",
    "        \n",
    "    # ImageFolder automatically finds classes from folder names\n",
    "    dataset = ImageFolder(root=domain_path, transform=transform)\n",
    "    \n",
    "    loader = DataLoader(\n",
    "        dataset,\n",
    "        batch_size=batch_size,\n",
    "        shuffle=False, # No need to shuffle for evaluation\n",
    "        num_workers=0, # 4 before for kaggle\n",
    "        pin_memory=True,\n",
    "    )\n",
    "    \n",
    "    return loader, dataset.classes"
   ]
  },
  {
   "cell_type": "code",
   "execution_count": 9,
   "metadata": {
    "trusted": true
   },
   "outputs": [
    {
     "name": "stdout",
     "output_type": "stream",
     "text": [
      "Starting zero-shot evaluation on cuda...\n",
      "Using prompt strategy: 'generic'\n"
     ]
    },
    {
     "name": "stderr",
     "output_type": "stream",
     "text": [
      "C:\\Users\\Fatim_Sproj\\AppData\\Roaming\\Python\\Python311\\site-packages\\huggingface_hub\\file_download.py:143: UserWarning: `huggingface_hub` cache-system uses symlinks by default to efficiently store duplicated files but your machine does not support them in C:\\Users\\Fatim_Sproj\\.cache\\huggingface\\hub\\models--openai--clip-vit-base-patch32. Caching files will still work but in a degraded version that might require more space on your disk. This warning can be disabled by setting the `HF_HUB_DISABLE_SYMLINKS_WARNING` environment variable. For more details, see https://huggingface.co/docs/huggingface_hub/how-to-cache#limitations.\n",
      "To support symlinks on Windows, you either need to activate Developer Mode or to run Python as an administrator. In order to activate developer mode, see this article: https://docs.microsoft.com/en-us/windows/apps/get-started/enable-your-device-for-development\n",
      "  warnings.warn(message)\n",
      "Xet Storage is enabled for this repo, but the 'hf_xet' package is not installed. Falling back to regular HTTP download. For better performance, install the package with: `pip install huggingface_hub[hf_xet]` or `pip install hf_xet`\n",
      "Using a slow image processor as `use_fast` is unset and a slow processor was saved with this model. `use_fast=True` will be the default behavior in v4.52, even if the model was saved with a slow processor. This will result in minor differences in outputs. You'll still be able to use a slow processor with `use_fast=False`.\n",
      "Xet Storage is enabled for this repo, but the 'hf_xet' package is not installed. Falling back to regular HTTP download. For better performance, install the package with: `pip install huggingface_hub[hf_xet]` or `pip install hf_xet`\n"
     ]
    },
    {
     "name": "stdout",
     "output_type": "stream",
     "text": [
      "Found 7 classes.\n",
      "\n",
      "Evaluating domain: art_painting...\n",
      "Using prompt: 'a photo of a {}.'\n"
     ]
    },
    {
     "name": "stderr",
     "output_type": "stream",
     "text": [
      "Testing art_painting: 100%|██████████| 16/16 [00:05<00:00,  2.83it/s]\n"
     ]
    },
    {
     "name": "stdout",
     "output_type": "stream",
     "text": [
      "Accuracy on art_painting: 96.29%\n",
      "\n",
      "Evaluating domain: cartoon...\n",
      "Using prompt: 'a photo of a {}.'\n"
     ]
    },
    {
     "name": "stderr",
     "output_type": "stream",
     "text": [
      "Testing cartoon: 100%|██████████| 19/19 [00:06<00:00,  2.97it/s]\n"
     ]
    },
    {
     "name": "stdout",
     "output_type": "stream",
     "text": [
      "Accuracy on cartoon: 98.17%\n",
      "\n",
      "Evaluating domain: photo...\n",
      "Using prompt: 'a photo of a {}.'\n"
     ]
    },
    {
     "name": "stderr",
     "output_type": "stream",
     "text": [
      "Testing photo: 100%|██████████| 14/14 [00:04<00:00,  3.07it/s]\n"
     ]
    },
    {
     "name": "stdout",
     "output_type": "stream",
     "text": [
      "Accuracy on photo: 99.82%\n",
      "\n",
      "Evaluating domain: sketch...\n",
      "Using prompt: 'a photo of a {}.'\n"
     ]
    },
    {
     "name": "stderr",
     "output_type": "stream",
     "text": [
      "Testing sketch: 100%|██████████| 31/31 [00:10<00:00,  2.92it/s]"
     ]
    },
    {
     "name": "stdout",
     "output_type": "stream",
     "text": [
      "Accuracy on sketch: 85.19%\n",
      "\n",
      "==================================================\n",
      "  Summary for 'generic' Prompt Strategy  \n",
      "==================================================\n",
      "Domain               | Accuracy (%)   \n",
      "--------------------------------------------------\n",
      "art_painting         | 96.29          \n",
      "cartoon              | 98.17          \n",
      "photo                | 99.82          \n",
      "sketch               | 85.19          \n",
      "==================================================\n"
     ]
    },
    {
     "name": "stderr",
     "output_type": "stream",
     "text": [
      "\n"
     ]
    }
   ],
   "source": [
    "# ==========================================================================================\n",
    "# STEP 3: MAIN EVALUATION SCRIPT\n",
    "# ==========================================================================================\n",
    "def main():\n",
    "    print(f\"Starting zero-shot evaluation on {CONFIG_3_1 ['device']}...\")\n",
    "    print(f\"Using prompt strategy: '{CONFIG_3_1 ['selected_strategy']}'\")\n",
    "\n",
    "    model = CLIPModel.from_pretrained(CONFIG_3_1 [\"model_name\"]).to(CONFIG_3_1 [\"device\"])\n",
    "    processor = CLIPProcessor.from_pretrained(CONFIG_3_1 [\"model_name\"])\n",
    "    image_transform = lambda img: processor.image_processor(\n",
    "        img, return_tensors=\"pt\"\n",
    "    )['pixel_values'].squeeze(0)\n",
    "\n",
    "    results = {}\n",
    "\n",
    "    _, class_names = get_dataloader(CONFIG_3_1 [\"domains\"][0], image_transform, CONFIG_3_1 [\"batch_size\"], CONFIG_3_1 [\"dataset_path\"])\n",
    "    print(f\"Found {len(class_names)} classes.\")\n",
    "\n",
    "    # --- Evaluation Loop ---\n",
    "    for domain in CONFIG_3_1 [\"domains\"]:\n",
    "        print(f\"\\nEvaluating domain: {domain}...\")\n",
    "\n",
    "        # <<< MODIFICATION: Select the correct prompt template based on the strategy\n",
    "        strategy_config = CONFIG_3_1 [\"prompt_strategies\"][CONFIG_3_1 [\"selected_strategy\"]]\n",
    "        if isinstance(strategy_config, dict):\n",
    "            # Domain-specific strategy\n",
    "            prompt_template = strategy_config[domain]\n",
    "        else:\n",
    "            # Generic strategy\n",
    "            prompt_template = strategy_config\n",
    "        \n",
    "        print(f\"Using prompt: '{prompt_template}'\")\n",
    "        \n",
    "        # <<< MODIFICATION: Prepare text prompts inside the loop\n",
    "        text_prompts = [prompt_template.format(c) for c in class_names]\n",
    "        text_inputs = processor(text=text_prompts, return_tensors=\"pt\", padding=True).to(CONFIG_3_1 [\"device\"])\n",
    "\n",
    "        try:\n",
    "            test_loader, _ = get_dataloader(domain, image_transform, CONFIG_3_1 [\"batch_size\"], CONFIG_3_1 [\"dataset_path\"])\n",
    "        except FileNotFoundError as e:\n",
    "            print(e); continue\n",
    "\n",
    "        total_correct = 0\n",
    "        total_samples = 0\n",
    "        \n",
    "        model.eval()\n",
    "        with torch.no_grad():\n",
    "            for images, labels in tqdm(test_loader, desc=f\"Testing {domain}\"):\n",
    "                images, labels = images.to(CONFIG_3_1 [\"device\"]), labels.to(CONFIG_3_1 [\"device\"])\n",
    "                \n",
    "                outputs = model(pixel_values=images, input_ids=text_inputs.input_ids, attention_mask=text_inputs.attention_mask)\n",
    "                logits_per_image = outputs.logits_per_image\n",
    "                predictions = torch.argmax(logits_per_image, dim=1)\n",
    "                \n",
    "                total_correct += (predictions == labels).sum().item()\n",
    "                total_samples += labels.size(0)\n",
    "    \n",
    "        accuracy = (total_correct / total_samples) * 100\n",
    "        results[domain] = accuracy\n",
    "        print(f\"Accuracy on {domain}: {accuracy:.2f}%\")\n",
    "\n",
    "    # --- Print Final Summary Table ---\n",
    "    print(\"\\n\" + \"=\"*50)\n",
    "    print(f\"  Summary for '{CONFIG_3_1 ['selected_strategy']}' Prompt Strategy  \")\n",
    "    print(\"=\"*50)\n",
    "    print(f\"{'Domain':<20} | {'Accuracy (%)':<15}\")\n",
    "    print(\"-\"*50)\n",
    "    for domain, acc in results.items():\n",
    "        print(f\"{domain:<20} | {acc:<15.2f}\")\n",
    "    print(\"=\"*50)\n",
    "\n",
    "if __name__ == \"__main__\":\n",
    "    main()"
   ]
  },
  {
   "cell_type": "markdown",
   "metadata": {},
   "source": [
    "# section 3.1 (part B): "
   ]
  },
  {
   "cell_type": "code",
   "execution_count": null,
   "metadata": {
    "trusted": true
   },
   "outputs": [
    {
     "name": "stdout",
     "output_type": "stream",
     "text": [
      "Data preparation functions (with num_workers=0 fix) defined.\n"
     ]
    }
   ],
   "source": [
    "# Cell 2: Data Preparation (Quick Fix for Windows)\n",
    "def get_dataloaders_for_probing(domain_name, transform, batch_size, dataset_path, train_split_ratio):\n",
    "    domain_path = os.path.join(dataset_path, domain_name)\n",
    "    full_dataset = ImageFolder(root=domain_path, transform=transform)\n",
    "    \n",
    "    num_train = int(len(full_dataset) * train_split_ratio)\n",
    "    num_val = len(full_dataset) - num_train\n",
    "    \n",
    "    # Assuming CONFIG_3_1.seed is defined\n",
    "    generator = torch.Generator().manual_seed(CONFIG_3_1[\"seed\"])\n",
    "    train_dataset, val_dataset = random_split(full_dataset, [num_train, num_val], generator=generator)\n",
    "    \n",
    "    # <<< FIX: Set num_workers=0 to avoid pickling error on Windows >>>\n",
    "    train_loader = DataLoader(train_dataset, batch_size=batch_size, shuffle=True, num_workers=0)\n",
    "    val_loader = DataLoader(val_dataset, batch_size=batch_size, shuffle=False, num_workers=0)\n",
    "    \n",
    "    return train_loader, val_loader\n",
    "\n",
    "def get_test_dataloader(domain_name, transform, batch_size, dataset_path):\n",
    "    domain_path = os.path.join(dataset_path, domain_name)\n",
    "    test_dataset = ImageFolder(root=domain_path, transform=transform)\n",
    "    \n",
    "    # <<< FIX: Set num_workers=0 to avoid pickling error on Windows >>>\n",
    "    test_loader = DataLoader(test_dataset, batch_size=batch_size, shuffle=False, num_workers=0)\n",
    "    return test_loader\n",
    "\n",
    "print(\"Data preparation functions (with num_workers=0 fix) defined.\")"
   ]
  },
  {
   "cell_type": "code",
   "execution_count": 14,
   "metadata": {
    "trusted": true
   },
   "outputs": [
    {
     "name": "stdout",
     "output_type": "stream",
     "text": [
      "Feature extraction function defined.\n"
     ]
    }
   ],
   "source": [
    "def extract_features(clip_model, data_loader, device):\n",
    "    \"\"\"\n",
    "    Pre-computes and saves CLIP image features and labels for a given dataset.\n",
    "    \"\"\"\n",
    "    features = []\n",
    "    labels = []\n",
    "    \n",
    "    clip_model.eval()\n",
    "    with torch.no_grad():\n",
    "        for images, lbls in tqdm(data_loader, desc=\"Extracting features\"):\n",
    "            images = images.to(device)\n",
    "            # We only need the image features, not the text features or logits\n",
    "            image_features = clip_model.get_image_features(pixel_values=images)\n",
    "            features.append(image_features.cpu())\n",
    "            labels.append(lbls.cpu())\n",
    "            \n",
    "    # Concatenate all features and labels into single tensors\n",
    "    features = torch.cat(features, dim=0)\n",
    "    labels = torch.cat(labels, dim=0)\n",
    "    \n",
    "    return TensorDataset(features, labels)\n",
    "\n",
    "print(\"Feature extraction function defined.\")"
   ]
  },
  {
   "cell_type": "code",
   "execution_count": 15,
   "metadata": {
    "trusted": true
   },
   "outputs": [
    {
     "name": "stdout",
     "output_type": "stream",
     "text": [
      "Loading CLIP model for feature extraction...\n",
      "\n",
      "==================================================\n",
      "Running Experiment: Source='photo' -> Target='sketch'\n",
      "==================================================\n",
      "1. Preparing data loaders...\n",
      "2. Extracting features (this may take a moment)...\n"
     ]
    },
    {
     "name": "stderr",
     "output_type": "stream",
     "text": [
      "Extracting features: 100%|██████████| 11/11 [00:03<00:00,  3.08it/s]\n",
      "Extracting features: 100%|██████████| 3/3 [00:00<00:00,  3.46it/s]\n",
      "Extracting features: 100%|██████████| 31/31 [00:10<00:00,  3.02it/s]\n"
     ]
    },
    {
     "name": "stdout",
     "output_type": "stream",
     "text": [
      "3. Training the linear probe...\n",
      "4. Evaluating the trained probe...\n",
      "Source Accuracy (photo): 99.40%\n",
      "Target Accuracy (sketch): 84.58%\n",
      "\n",
      "==================================================\n",
      "Running Experiment: Source='photo' -> Target='art_painting'\n",
      "==================================================\n",
      "1. Preparing data loaders...\n",
      "2. Extracting features (this may take a moment)...\n"
     ]
    },
    {
     "name": "stderr",
     "output_type": "stream",
     "text": [
      "Extracting features: 100%|██████████| 11/11 [00:03<00:00,  3.13it/s]\n",
      "Extracting features: 100%|██████████| 3/3 [00:00<00:00,  3.47it/s]\n",
      "Extracting features: 100%|██████████| 16/16 [00:05<00:00,  2.94it/s]\n"
     ]
    },
    {
     "name": "stdout",
     "output_type": "stream",
     "text": [
      "3. Training the linear probe...\n",
      "4. Evaluating the trained probe...\n",
      "Source Accuracy (photo): 99.40%\n",
      "Target Accuracy (art_painting): 78.96%\n",
      "\n",
      "==================================================\n",
      "Running Experiment: Source='art_painting' -> Target='sketch'\n",
      "==================================================\n",
      "1. Preparing data loaders...\n",
      "2. Extracting features (this may take a moment)...\n"
     ]
    },
    {
     "name": "stderr",
     "output_type": "stream",
     "text": [
      "Extracting features: 100%|██████████| 13/13 [00:04<00:00,  3.02it/s]\n",
      "Extracting features: 100%|██████████| 4/4 [00:01<00:00,  3.65it/s]\n",
      "Extracting features: 100%|██████████| 31/31 [00:10<00:00,  3.03it/s]"
     ]
    },
    {
     "name": "stdout",
     "output_type": "stream",
     "text": [
      "3. Training the linear probe...\n",
      "4. Evaluating the trained probe...\n",
      "Source Accuracy (art_painting): 96.10%\n",
      "Target Accuracy (sketch): 87.68%\n",
      "\n",
      "============================================================\n",
      "         Summary of Linear Probe Performance         \n",
      "============================================================\n",
      "Source          | Target          | Source Acc (%)  | Target Acc (%) \n",
      "------------------------------------------------------------\n",
      "photo           | sketch          | 99.40           | 84.58          \n",
      "photo           | art_painting    | 99.40           | 78.96          \n",
      "art_painting    | sketch          | 96.10           | 87.68          \n",
      "============================================================\n"
     ]
    },
    {
     "name": "stderr",
     "output_type": "stream",
     "text": [
      "\n"
     ]
    }
   ],
   "source": [
    "# 1. DEFINE THE LINEAR PROBE MODEL\n",
    "class LinearProbe(nn.Module):\n",
    "    def __init__(self, feature_dim, num_classes):\n",
    "        super(LinearProbe, self).__init__()\n",
    "        self.classifier = nn.Linear(feature_dim, num_classes)\n",
    "\n",
    "    def forward(self, x):\n",
    "        return self.classifier(x)\n",
    "        \n",
    "# 2. MAIN SCRIPT\n",
    "def main_linear_probe():\n",
    "    # --- Load Frozen CLIP Model ---\n",
    "    print(\"Loading CLIP model for feature extraction...\")\n",
    "    device = CONFIG_3_1 [\"device\"]\n",
    "    clip_model = CLIPModel.from_pretrained(CONFIG_3_1 [\"model_name\"]).to(device)\n",
    "    processor = CLIPProcessor.from_pretrained(CONFIG_3_1 [\"model_name\"])\n",
    "    image_transform = lambda img: processor.image_processor(img, return_tensors=\"pt\")['pixel_values'].squeeze(0)\n",
    "    \n",
    "    probe_config = CONFIG_3_1 [\"linear_probe\"]\n",
    "    results = []\n",
    "\n",
    "    # --- Loop over experimental pairs ---\n",
    "    for pair in probe_config[\"pairs_to_run\"]:\n",
    "        source_domain = pair[\"source\"]\n",
    "        target_domain = pair[\"target\"]\n",
    "        print(\"\\n\" + \"=\"*50)\n",
    "        print(f\"Running Experiment: Source='{source_domain}' -> Target='{target_domain}'\")\n",
    "        print(\"=\"*50)\n",
    "\n",
    "        # --- a. Data Preparation ---\n",
    "        print(\"1. Preparing data loaders...\")\n",
    "        source_train_loader, source_val_loader = get_dataloaders_for_probing(\n",
    "            source_domain, image_transform, CONFIG_3_1 [\"batch_size\"], CONFIG_3_1 [\"dataset_path\"], probe_config[\"train_split_ratio\"]\n",
    "        )\n",
    "        target_loader = get_test_dataloader(target_domain, image_transform, CONFIG_3_1 [\"batch_size\"], CONFIG_3_1 [\"dataset_path\"])\n",
    "\n",
    "        # --- b. Feature Extraction ---\n",
    "        print(\"2. Extracting features (this may take a moment)...\")\n",
    "        source_train_features = extract_features(clip_model, source_train_loader, device)\n",
    "        source_val_features = extract_features(clip_model, source_val_loader, device)\n",
    "        target_features = extract_features(clip_model, target_loader, device)\n",
    "        \n",
    "        # Create DataLoaders from the pre-computed features\n",
    "        train_feature_loader = DataLoader(source_train_features, batch_size=CONFIG_3_1 [\"batch_size\"], shuffle=True)\n",
    "        val_feature_loader = DataLoader(source_val_features, batch_size=CONFIG_3_1 [\"batch_size\"])\n",
    "        target_feature_loader = DataLoader(target_features, batch_size=CONFIG_3_1 [\"batch_size\"])\n",
    "\n",
    "        # --- c. Model Training ---\n",
    "        print(\"3. Training the linear probe...\")\n",
    "        probe_model = LinearProbe(probe_config[\"feature_dim\"], probe_config[\"num_classes\"]).to(device)\n",
    "        criterion = nn.CrossEntropyLoss()\n",
    "        optimizer = optim.Adam(probe_model.parameters(), lr=probe_config[\"learning_rate\"])\n",
    "\n",
    "        for epoch in range(probe_config[\"num_epochs\"]):\n",
    "            probe_model.train()\n",
    "            for features, labels in train_feature_loader:\n",
    "                features, labels = features.to(device), labels.to(device)\n",
    "                \n",
    "                optimizer.zero_grad()\n",
    "                outputs = probe_model(features)\n",
    "                loss = criterion(outputs, labels)\n",
    "                loss.backward()\n",
    "                optimizer.step()\n",
    "            # print(f\"Epoch [{epoch+1}/{probe_config['num_epochs']}], Loss: {loss.item():.4f}\") # Optional per-epoch loss\n",
    "\n",
    "        # --- d. Evaluation ---\n",
    "        print(\"4. Evaluating the trained probe...\")\n",
    "        probe_model.eval()\n",
    "        \n",
    "        # Evaluate on Source Domain\n",
    "        correct, total = 0, 0\n",
    "        with torch.no_grad():\n",
    "            for features, labels in val_feature_loader:\n",
    "                features, labels = features.to(device), labels.to(device)\n",
    "                outputs = probe_model(features)\n",
    "                _, predicted = torch.max(outputs.data, 1)\n",
    "                total += labels.size(0)\n",
    "                correct += (predicted == labels).sum().item()\n",
    "        source_accuracy = 100 * correct / total\n",
    "        \n",
    "        # Evaluate on Target Domain\n",
    "        correct, total = 0, 0\n",
    "        with torch.no_grad():\n",
    "            for features, labels in target_feature_loader:\n",
    "                features, labels = features.to(device), labels.to(device)\n",
    "                outputs = probe_model(features)\n",
    "                _, predicted = torch.max(outputs.data, 1)\n",
    "                total += labels.size(0)\n",
    "                correct += (predicted == labels).sum().item()\n",
    "        target_accuracy = 100 * correct / total\n",
    "        \n",
    "        print(f\"Source Accuracy ({source_domain}): {source_accuracy:.2f}%\")\n",
    "        print(f\"Target Accuracy ({target_domain}): {target_accuracy:.2f}%\")\n",
    "        \n",
    "        results.append({\n",
    "            \"source\": source_domain,\n",
    "            \"target\": target_domain,\n",
    "            \"source_acc\": source_accuracy,\n",
    "            \"target_acc\": target_accuracy,\n",
    "        })\n",
    "\n",
    "    # --- 3. Print Final Summary Table ---\n",
    "    print(\"\\n\" + \"=\"*60)\n",
    "    print(\"         Summary of Linear Probe Performance         \")\n",
    "    print(\"=\"*60)\n",
    "    print(f\"{'Source':<15} | {'Target':<15} | {'Source Acc (%)':<15} | {'Target Acc (%)':<15}\")\n",
    "    print(\"-\"*60)\n",
    "    for res in results:\n",
    "        print(f\"{res['source']:<15} | {res['target']:<15} | {res['source_acc']:<15.2f} | {res['target_acc']:<15.2f}\")\n",
    "    print(\"=\"*60)\n",
    "\n",
    "# Run the entire process\n",
    "main_linear_probe()"
   ]
  },
  {
   "cell_type": "markdown",
   "metadata": {},
   "source": [
    "# section 3.2:"
   ]
  },
  {
   "cell_type": "code",
   "execution_count": 4,
   "metadata": {
    "execution": {
     "iopub.execute_input": "2025-10-15T00:51:52.444989Z",
     "iopub.status.busy": "2025-10-15T00:51:52.444418Z",
     "iopub.status.idle": "2025-10-15T00:52:02.057709Z",
     "shell.execute_reply": "2025-10-15T00:52:02.056910Z",
     "shell.execute_reply.started": "2025-10-15T00:51:52.444964Z"
    },
    "trusted": true
   },
   "outputs": [
    {
     "name": "stderr",
     "output_type": "stream",
     "text": [
      "C:\\Users\\Fatim_Sproj\\AppData\\Roaming\\Python\\Python311\\site-packages\\tqdm\\auto.py:21: TqdmWarning: IProgress not found. Please update jupyter and ipywidgets. See https://ipywidgets.readthedocs.io/en/stable/user_install.html\n",
      "  from .autonotebook import tqdm as notebook_tqdm\n"
     ]
    },
    {
     "name": "stdout",
     "output_type": "stream",
     "text": [
      "Configuration for Task 3.2 loaded. Random seed set to: 42\n"
     ]
    }
   ],
   "source": [
    "import torch\n",
    "import torch.nn as nn\n",
    "import torch.optim as optim\n",
    "from torch.utils.data import DataLoader\n",
    "from torchvision.datasets import ImageFolder\n",
    "from transformers import CLIPProcessor, CLIPModel\n",
    "from torch.nn import functional as F\n",
    "from tqdm import tqdm\n",
    "import os\n",
    "import random\n",
    "import numpy as np\n",
    "from clip import clip\n",
    "from torch.cuda.amp import GradScaler, autocast\n",
    "\n",
    "\n",
    "# --- Environment Setup (can be repeated for clarity) ---\n",
    "os.environ[\"TOKENIZERS_PARALLELISM\"] = \"false\"\n",
    "os.environ['CUDA_LAUNCH_BLOCKING'] = \"1\" # For debugging\n",
    "\n",
    "# --- Seeding Function (can be repeated for clarity) ---\n",
    "def set_seed(seed):\n",
    "    random.seed(seed)\n",
    "    np.random.seed(seed)\n",
    "    torch.manual_seed(seed)\n",
    "    if torch.cuda.is_available():\n",
    "        torch.cuda.manual_seed(seed)\n",
    "        torch.cuda.manual_seed_all(seed)\n",
    "    torch.backends.cudnn.deterministic = True\n",
    "    torch.backends.cudnn.benchmark = False\n",
    "\n",
    "# --- Main Configuration for Task 3.2 ---\n",
    "CONFIG_3_2 = {\n",
    "    # \"dataset_path\": \"/kaggle/input/pacs-dataset/pacs_data\",\n",
    "    \"dataset_path\": \"D:\\Salaar Masood\\pacs-dataset\\pacs_data\",  # Path to the parent directory of the dataset\n",
    "    \"domains\": [\"art_painting\", \"cartoon\", \"photo\", \"sketch\"],\n",
    "    \"class_names\": [\"dog\", \"elephant\", \"giraffe\", \"guitar\", \"horse\", \"house\", \"person\"],\n",
    "    # CRITICAL: Use the model name compatible with the 'clip' library\n",
    "    \"model_name\": \"ViT-B/32\",\n",
    "    \"batch_size\": 128,\n",
    "    \"device\": \"cuda\" if torch.cuda.is_available() else \"cpu\",\n",
    "    \"seed\": 42,\n",
    "\n",
    "    # --- Config specifically for DAPrompt ---\n",
    "    \"dapl_prompt\": {\n",
    "        \"pairs_to_run\": [\n",
    "            {\"source\": \"photo\", \"target\": \"sketch\"},\n",
    "            {\"source\": \"photo\", \"target\": \"art_painting\"},\n",
    "            {\"source\": \"art_painting\", \"target\": \"sketch\"},\n",
    "        ],\n",
    "        \"num_epochs\": 10,\n",
    "        \"learning_rate\": 1e-4,\n",
    "        \"n_ctx\": 16,  # Domain-agnostic vectors\n",
    "        \"n_dmx\": 16,  # Domain-specific vectors\n",
    "        \"T\": 1.0,     # Temperature for pseudo-labels\n",
    "        \"TAU\": 0.7,   # Confidence threshold\n",
    "        \"U\": 1.0,     # Unsupervised loss weight\n",
    "    }\n",
    "}\n",
    "\n",
    "# Set the seed for reproducibility\n",
    "set_seed(CONFIG_3_2[\"seed\"])\n",
    "print(f\"Configuration for Task 3.2 loaded. Random seed set to: {CONFIG_3_2['seed']}\")"
   ]
  },
  {
   "cell_type": "code",
   "execution_count": 5,
   "metadata": {
    "execution": {
     "iopub.execute_input": "2025-10-15T00:52:02.059422Z",
     "iopub.status.busy": "2025-10-15T00:52:02.058824Z",
     "iopub.status.idle": "2025-10-15T00:52:02.076625Z",
     "shell.execute_reply": "2025-10-15T00:52:02.075938Z",
     "shell.execute_reply.started": "2025-10-15T00:52:02.059400Z"
    },
    "trusted": true
   },
   "outputs": [],
   "source": [
    "# The Final, Unified, and Correct DAPrompt and TextEncoder Classes\n",
    "\n",
    "class TextEncoder(nn.Module):\n",
    "    def __init__(self, clip_model, dtype):\n",
    "        super().__init__()\n",
    "        self.transformer = clip_model.transformer\n",
    "        self.positional_embedding = clip_model.positional_embedding\n",
    "        self.ln_final = clip_model.ln_final\n",
    "        self.text_projection = clip_model.text_projection\n",
    "        # The data type is passed in during initialization\n",
    "        self.dtype = dtype\n",
    "\n",
    "    def forward(self, prompts, tokenized_prompts):\n",
    "        x = prompts + self.positional_embedding.type(self.dtype)\n",
    "        x = x.permute(1, 0, 2); x = self.transformer(x); x = x.permute(1, 0, 2)\n",
    "        x = self.ln_final(x).type(self.dtype)\n",
    "        x = x[torch.arange(x.shape[0]), tokenized_prompts.argmax(dim=-1)] @ self.text_projection\n",
    "        return x\n",
    "\n",
    "class DAPrompt(nn.Module):\n",
    "    def __init__(self, cfg, class_names, clip_model, precision=\"amp\"):\n",
    "        \"\"\"\n",
    "        Initializes the DAPrompt model.\n",
    "        Args:\n",
    "            cfg: The configuration dictionary.\n",
    "            class_names: A list of class names.\n",
    "            clip_model: The pre-trained CLIP model.\n",
    "            precision (str): The computation precision. Must be 'amp' (for mixed-precision)\n",
    "                             or 'fp32' (for full precision).\n",
    "        \"\"\"\n",
    "        super().__init__()\n",
    "        if precision not in [\"amp\", \"fp32\"]:\n",
    "            raise ValueError(\"Precision must be either 'amp' or 'fp32'\")\n",
    "\n",
    "        # 1. Set the working data type based on the precision mode\n",
    "        if precision == \"amp\":\n",
    "            self.dtype = clip_model.dtype  # Use the model's native dtype (e.g., float16)\n",
    "        else: # precision == \"fp32\"\n",
    "            self.dtype = torch.float32 # Force float32 for diagnostics\n",
    "\n",
    "        self.n_classes = len(class_names)\n",
    "        \n",
    "        dapl_cfg = cfg['dapl_prompt']\n",
    "        n_ctx, n_dmx = dapl_cfg['n_ctx'], dapl_cfg['n_dmx']\n",
    "        ctx_dim = clip_model.ln_final.weight.shape[0]\n",
    "\n",
    "        # Learnable parameters are ALWAYS kept in FP32\n",
    "        self.ctx = nn.Parameter(torch.empty(n_ctx, ctx_dim, dtype=torch.float32))\n",
    "        self.domain_vectors = nn.Parameter(torch.empty(len(cfg['domains']), n_dmx, ctx_dim, dtype=torch.float32))\n",
    "        nn.init.normal_(self.ctx, std=0.02); nn.init.normal_(self.domain_vectors, std=0.02)\n",
    "        \n",
    "        self.domain_map = {name: i for i, name in enumerate(cfg['domains'])}\n",
    "\n",
    "        # 2. Instantiate the TextEncoder with the correct dtype\n",
    "        self.text_encoder = TextEncoder(clip_model, self.dtype)\n",
    "        \n",
    "        self.image_encoder = clip_model.visual\n",
    "        self.logit_scale = clip_model.logit_scale\n",
    "        self.token_embedding = clip_model.token_embedding\n",
    "        \n",
    "        prompt_prefix = \" \".join([\"X\"] * (n_ctx + n_dmx))\n",
    "        prompts = [prompt_prefix + \" \" + name.replace(\"_\", \" \") + \".\" for name in class_names]\n",
    "        \n",
    "        tokenized_prompts = torch.cat([clip.tokenize(p) for p in prompts]).to(cfg['device'])\n",
    "        self.register_buffer(\"tokenized_prompts\", tokenized_prompts)\n",
    "        with torch.no_grad():\n",
    "            embedding = self.token_embedding(self.tokenized_prompts).type(self.dtype)\n",
    "        \n",
    "        self.register_buffer(\"token_prefix\", embedding[:, :1, :])\n",
    "        self.register_buffer(\"token_suffix\", embedding[:, 1 + (n_ctx + n_dmx):, :])\n",
    "\n",
    "    def forward(self, image, domain_name):\n",
    "        image_features = self.image_encoder(image.type(self.dtype))\n",
    "        image_features = image_features / image_features.norm(dim=-1, keepdim=True)\n",
    "\n",
    "        domain_idx = self.domain_map[domain_name]\n",
    "        learnable_prompt_vectors = torch.cat([self.ctx, self.domain_vectors[domain_idx]], dim=0)\n",
    "        \n",
    "        prompts = learnable_prompt_vectors.unsqueeze(0).expand(self.n_classes, -1, -1)\n",
    "        \n",
    "        # This explicit cast is the key fix that makes both modes work\n",
    "        prompts = prompts.to(self.dtype)\n",
    "        \n",
    "        final_embedding = torch.cat([self.token_prefix, prompts, self.token_suffix], dim=1)\n",
    "\n",
    "        text_features = self.text_encoder(final_embedding, self.tokenized_prompts)\n",
    "        text_features = text_features / text_features.norm(dim=-1, keepdim=True)\n",
    "\n",
    "        logits = self.logit_scale.exp() * image_features @ text_features.t()\n",
    "        return logits"
   ]
  },
  {
   "cell_type": "code",
   "execution_count": 7,
   "metadata": {
    "execution": {
     "iopub.execute_input": "2025-10-15T00:52:02.077568Z",
     "iopub.status.busy": "2025-10-15T00:52:02.077370Z",
     "iopub.status.idle": "2025-10-15T00:52:02.093613Z",
     "shell.execute_reply": "2025-10-15T00:52:02.092823Z",
     "shell.execute_reply.started": "2025-10-15T00:52:02.077554Z"
    },
    "trusted": true
   },
   "outputs": [
    {
     "name": "stdout",
     "output_type": "stream",
     "text": [
      "Data loading function defined.\n"
     ]
    }
   ],
   "source": [
    "def get_source_target_loaders(source_domain, target_domain, transform, batch_size, dataset_path):\n",
    "    \"\"\"Creates separate DataLoaders for the source and target domains.\"\"\"\n",
    "    source_path = os.path.join(dataset_path, source_domain)\n",
    "    target_path = os.path.join(dataset_path, target_domain)\n",
    "    \n",
    "    source_dataset = ImageFolder(root=source_path, transform=transform)\n",
    "    target_dataset = ImageFolder(root=target_path, transform=transform)\n",
    "    \n",
    "    source_loader = DataLoader(source_dataset, batch_size=batch_size, shuffle=True, num_workers=0, drop_last=True)\n",
    "    target_loader = DataLoader(target_dataset, batch_size=batch_size, shuffle=True, num_workers=0, drop_last=True)\n",
    "    \n",
    "    # We also need a test loader for the target domain for final evaluation\n",
    "    test_loader = DataLoader(target_dataset, batch_size=batch_size, shuffle=False, num_workers=0)\n",
    "    \n",
    "    return source_loader, target_loader, test_loader\n",
    "\n",
    "print(\"Data loading function defined.\")"
   ]
  },
  {
   "cell_type": "code",
   "execution_count": 29,
   "metadata": {
    "execution": {
     "iopub.execute_input": "2025-10-15T01:03:52.788352Z",
     "iopub.status.busy": "2025-10-15T01:03:52.787511Z",
     "iopub.status.idle": "2025-10-15T01:06:05.479708Z",
     "shell.execute_reply": "2025-10-15T01:06:05.478240Z",
     "shell.execute_reply.started": "2025-10-15T01:03:52.788309Z"
    },
    "trusted": true
   },
   "outputs": [
    {
     "name": "stdout",
     "output_type": "stream",
     "text": [
      "Loading CLIP model...\n",
      "\n",
      "==================================================\n",
      "Running Experiment (FP32 Mode): Source='photo' -> Target='sketch'\n",
      "==================================================\n",
      "1. Preparing data loaders...\n",
      "2. Setting up DAPrompt model and optimizer...\n",
      "3. Starting training...\n"
     ]
    },
    {
     "name": "stderr",
     "output_type": "stream",
     "text": [
      "Epoch 1/10: 100%|██████████| 13/13 [00:06<00:00,  1.88it/s]\n"
     ]
    },
    {
     "name": "stdout",
     "output_type": "stream",
     "text": [
      "Epoch 1 Avg Loss: 0.4298 (Source: 0.3503, Target: 0.0795)\n"
     ]
    },
    {
     "name": "stderr",
     "output_type": "stream",
     "text": [
      "Epoch 2/10: 100%|██████████| 13/13 [00:07<00:00,  1.85it/s]\n"
     ]
    },
    {
     "name": "stdout",
     "output_type": "stream",
     "text": [
      "Epoch 2 Avg Loss: 0.0930 (Source: 0.0393, Target: 0.0537)\n"
     ]
    },
    {
     "name": "stderr",
     "output_type": "stream",
     "text": [
      "Epoch 3/10: 100%|██████████| 13/13 [00:07<00:00,  1.85it/s]\n"
     ]
    },
    {
     "name": "stdout",
     "output_type": "stream",
     "text": [
      "Epoch 3 Avg Loss: 0.0516 (Source: 0.0142, Target: 0.0374)\n"
     ]
    },
    {
     "name": "stderr",
     "output_type": "stream",
     "text": [
      "Epoch 4/10: 100%|██████████| 13/13 [00:06<00:00,  1.86it/s]\n"
     ]
    },
    {
     "name": "stdout",
     "output_type": "stream",
     "text": [
      "Epoch 4 Avg Loss: 0.0403 (Source: 0.0102, Target: 0.0301)\n"
     ]
    },
    {
     "name": "stderr",
     "output_type": "stream",
     "text": [
      "Epoch 5/10: 100%|██████████| 13/13 [00:07<00:00,  1.84it/s]\n"
     ]
    },
    {
     "name": "stdout",
     "output_type": "stream",
     "text": [
      "Epoch 5 Avg Loss: 0.0354 (Source: 0.0085, Target: 0.0269)\n"
     ]
    },
    {
     "name": "stderr",
     "output_type": "stream",
     "text": [
      "Epoch 6/10: 100%|██████████| 13/13 [00:07<00:00,  1.85it/s]\n"
     ]
    },
    {
     "name": "stdout",
     "output_type": "stream",
     "text": [
      "Epoch 6 Avg Loss: 0.0305 (Source: 0.0075, Target: 0.0231)\n"
     ]
    },
    {
     "name": "stderr",
     "output_type": "stream",
     "text": [
      "Epoch 7/10: 100%|██████████| 13/13 [00:07<00:00,  1.85it/s]\n"
     ]
    },
    {
     "name": "stdout",
     "output_type": "stream",
     "text": [
      "Epoch 7 Avg Loss: 0.0299 (Source: 0.0064, Target: 0.0235)\n"
     ]
    },
    {
     "name": "stderr",
     "output_type": "stream",
     "text": [
      "Epoch 8/10: 100%|██████████| 13/13 [00:06<00:00,  1.87it/s]\n"
     ]
    },
    {
     "name": "stdout",
     "output_type": "stream",
     "text": [
      "Epoch 8 Avg Loss: 0.0322 (Source: 0.0064, Target: 0.0259)\n"
     ]
    },
    {
     "name": "stderr",
     "output_type": "stream",
     "text": [
      "Epoch 9/10: 100%|██████████| 13/13 [00:07<00:00,  1.85it/s]\n"
     ]
    },
    {
     "name": "stdout",
     "output_type": "stream",
     "text": [
      "Epoch 9 Avg Loss: 0.0263 (Source: 0.0058, Target: 0.0205)\n"
     ]
    },
    {
     "name": "stderr",
     "output_type": "stream",
     "text": [
      "Epoch 10/10: 100%|██████████| 13/13 [00:07<00:00,  1.84it/s]\n"
     ]
    },
    {
     "name": "stdout",
     "output_type": "stream",
     "text": [
      "Epoch 10 Avg Loss: 0.0272 (Source: 0.0052, Target: 0.0220)\n",
      "4. Evaluating on target domain...\n"
     ]
    },
    {
     "name": "stderr",
     "output_type": "stream",
     "text": [
      "Evaluating: 100%|██████████| 31/31 [00:08<00:00,  3.66it/s]\n"
     ]
    },
    {
     "name": "stdout",
     "output_type": "stream",
     "text": [
      "Final Target Accuracy (sketch): 90.23%\n",
      "\n",
      "==================================================\n",
      "Running Experiment (FP32 Mode): Source='photo' -> Target='art_painting'\n",
      "==================================================\n",
      "1. Preparing data loaders...\n",
      "2. Setting up DAPrompt model and optimizer...\n",
      "3. Starting training...\n"
     ]
    },
    {
     "name": "stderr",
     "output_type": "stream",
     "text": [
      "Epoch 1/10: 100%|██████████| 13/13 [00:07<00:00,  1.81it/s]\n"
     ]
    },
    {
     "name": "stdout",
     "output_type": "stream",
     "text": [
      "Epoch 1 Avg Loss: 0.4208 (Source: 0.2777, Target: 0.1432)\n"
     ]
    },
    {
     "name": "stderr",
     "output_type": "stream",
     "text": [
      "Epoch 2/10: 100%|██████████| 13/13 [00:07<00:00,  1.83it/s]\n"
     ]
    },
    {
     "name": "stdout",
     "output_type": "stream",
     "text": [
      "Epoch 2 Avg Loss: 0.0998 (Source: 0.0365, Target: 0.0634)\n"
     ]
    },
    {
     "name": "stderr",
     "output_type": "stream",
     "text": [
      "Epoch 3/10: 100%|██████████| 13/13 [00:07<00:00,  1.81it/s]\n"
     ]
    },
    {
     "name": "stdout",
     "output_type": "stream",
     "text": [
      "Epoch 3 Avg Loss: 0.0709 (Source: 0.0213, Target: 0.0495)\n"
     ]
    },
    {
     "name": "stderr",
     "output_type": "stream",
     "text": [
      "Epoch 4/10: 100%|██████████| 13/13 [00:07<00:00,  1.82it/s]\n"
     ]
    },
    {
     "name": "stdout",
     "output_type": "stream",
     "text": [
      "Epoch 4 Avg Loss: 0.0517 (Source: 0.0160, Target: 0.0357)\n"
     ]
    },
    {
     "name": "stderr",
     "output_type": "stream",
     "text": [
      "Epoch 5/10: 100%|██████████| 13/13 [00:07<00:00,  1.84it/s]\n"
     ]
    },
    {
     "name": "stdout",
     "output_type": "stream",
     "text": [
      "Epoch 5 Avg Loss: 0.0416 (Source: 0.0132, Target: 0.0284)\n"
     ]
    },
    {
     "name": "stderr",
     "output_type": "stream",
     "text": [
      "Epoch 6/10: 100%|██████████| 13/13 [00:07<00:00,  1.82it/s]\n"
     ]
    },
    {
     "name": "stdout",
     "output_type": "stream",
     "text": [
      "Epoch 6 Avg Loss: 0.0368 (Source: 0.0117, Target: 0.0251)\n"
     ]
    },
    {
     "name": "stderr",
     "output_type": "stream",
     "text": [
      "Epoch 7/10: 100%|██████████| 13/13 [00:07<00:00,  1.83it/s]\n"
     ]
    },
    {
     "name": "stdout",
     "output_type": "stream",
     "text": [
      "Epoch 7 Avg Loss: 0.0317 (Source: 0.0101, Target: 0.0216)\n"
     ]
    },
    {
     "name": "stderr",
     "output_type": "stream",
     "text": [
      "Epoch 8/10: 100%|██████████| 13/13 [00:07<00:00,  1.82it/s]\n"
     ]
    },
    {
     "name": "stdout",
     "output_type": "stream",
     "text": [
      "Epoch 8 Avg Loss: 0.0302 (Source: 0.0094, Target: 0.0208)\n"
     ]
    },
    {
     "name": "stderr",
     "output_type": "stream",
     "text": [
      "Epoch 9/10: 100%|██████████| 13/13 [00:07<00:00,  1.83it/s]\n"
     ]
    },
    {
     "name": "stdout",
     "output_type": "stream",
     "text": [
      "Epoch 9 Avg Loss: 0.0278 (Source: 0.0087, Target: 0.0191)\n"
     ]
    },
    {
     "name": "stderr",
     "output_type": "stream",
     "text": [
      "Epoch 10/10: 100%|██████████| 13/13 [00:07<00:00,  1.84it/s]\n"
     ]
    },
    {
     "name": "stdout",
     "output_type": "stream",
     "text": [
      "Epoch 10 Avg Loss: 0.0265 (Source: 0.0080, Target: 0.0185)\n",
      "4. Evaluating on target domain...\n"
     ]
    },
    {
     "name": "stderr",
     "output_type": "stream",
     "text": [
      "Evaluating: 100%|██████████| 16/16 [00:04<00:00,  3.72it/s]\n"
     ]
    },
    {
     "name": "stdout",
     "output_type": "stream",
     "text": [
      "Final Target Accuracy (art_painting): 96.78%\n",
      "\n",
      "==================================================\n",
      "Running Experiment (FP32 Mode): Source='art_painting' -> Target='sketch'\n",
      "==================================================\n",
      "1. Preparing data loaders...\n",
      "2. Setting up DAPrompt model and optimizer...\n",
      "3. Starting training...\n"
     ]
    },
    {
     "name": "stderr",
     "output_type": "stream",
     "text": [
      "Epoch 1/10: 100%|██████████| 16/16 [00:09<00:00,  1.76it/s]\n"
     ]
    },
    {
     "name": "stdout",
     "output_type": "stream",
     "text": [
      "Epoch 1 Avg Loss: 0.7513 (Source: 0.6168, Target: 0.1345)\n"
     ]
    },
    {
     "name": "stderr",
     "output_type": "stream",
     "text": [
      "Epoch 2/10: 100%|██████████| 16/16 [00:08<00:00,  1.86it/s]\n"
     ]
    },
    {
     "name": "stdout",
     "output_type": "stream",
     "text": [
      "Epoch 2 Avg Loss: 0.2013 (Source: 0.1557, Target: 0.0456)\n"
     ]
    },
    {
     "name": "stderr",
     "output_type": "stream",
     "text": [
      "Epoch 3/10: 100%|██████████| 16/16 [00:08<00:00,  1.86it/s]\n"
     ]
    },
    {
     "name": "stdout",
     "output_type": "stream",
     "text": [
      "Epoch 3 Avg Loss: 0.1407 (Source: 0.1079, Target: 0.0327)\n"
     ]
    },
    {
     "name": "stderr",
     "output_type": "stream",
     "text": [
      "Epoch 4/10: 100%|██████████| 16/16 [00:08<00:00,  1.84it/s]\n"
     ]
    },
    {
     "name": "stdout",
     "output_type": "stream",
     "text": [
      "Epoch 4 Avg Loss: 0.1222 (Source: 0.0937, Target: 0.0285)\n"
     ]
    },
    {
     "name": "stderr",
     "output_type": "stream",
     "text": [
      "Epoch 5/10: 100%|██████████| 16/16 [00:08<00:00,  1.83it/s]\n"
     ]
    },
    {
     "name": "stdout",
     "output_type": "stream",
     "text": [
      "Epoch 5 Avg Loss: 0.1128 (Source: 0.0861, Target: 0.0267)\n"
     ]
    },
    {
     "name": "stderr",
     "output_type": "stream",
     "text": [
      "Epoch 6/10: 100%|██████████| 16/16 [00:08<00:00,  1.84it/s]\n"
     ]
    },
    {
     "name": "stdout",
     "output_type": "stream",
     "text": [
      "Epoch 6 Avg Loss: 0.1059 (Source: 0.0809, Target: 0.0250)\n"
     ]
    },
    {
     "name": "stderr",
     "output_type": "stream",
     "text": [
      "Epoch 7/10: 100%|██████████| 16/16 [00:08<00:00,  1.84it/s]\n"
     ]
    },
    {
     "name": "stdout",
     "output_type": "stream",
     "text": [
      "Epoch 7 Avg Loss: 0.1014 (Source: 0.0766, Target: 0.0249)\n"
     ]
    },
    {
     "name": "stderr",
     "output_type": "stream",
     "text": [
      "Epoch 8/10: 100%|██████████| 16/16 [00:08<00:00,  1.84it/s]\n"
     ]
    },
    {
     "name": "stdout",
     "output_type": "stream",
     "text": [
      "Epoch 8 Avg Loss: 0.0939 (Source: 0.0717, Target: 0.0222)\n"
     ]
    },
    {
     "name": "stderr",
     "output_type": "stream",
     "text": [
      "Epoch 9/10: 100%|██████████| 16/16 [00:08<00:00,  1.84it/s]\n"
     ]
    },
    {
     "name": "stdout",
     "output_type": "stream",
     "text": [
      "Epoch 9 Avg Loss: 0.0906 (Source: 0.0687, Target: 0.0219)\n"
     ]
    },
    {
     "name": "stderr",
     "output_type": "stream",
     "text": [
      "Epoch 10/10: 100%|██████████| 16/16 [00:08<00:00,  1.85it/s]\n"
     ]
    },
    {
     "name": "stdout",
     "output_type": "stream",
     "text": [
      "Epoch 10 Avg Loss: 0.0859 (Source: 0.0645, Target: 0.0214)\n",
      "4. Evaluating on target domain...\n"
     ]
    },
    {
     "name": "stderr",
     "output_type": "stream",
     "text": [
      "Evaluating: 100%|██████████| 31/31 [00:08<00:00,  3.65it/s]"
     ]
    },
    {
     "name": "stdout",
     "output_type": "stream",
     "text": [
      "Final Target Accuracy (sketch): 89.41%\n"
     ]
    },
    {
     "name": "stderr",
     "output_type": "stream",
     "text": [
      "\n"
     ]
    }
   ],
   "source": [
    "# The main function for Task 3.2, now using the reliable FP32 mode.\n",
    "\n",
    "def main_dapl():\n",
    "    # --- Load Frozen CLIP Model and its matched Preprocessor ---\n",
    "    print(\"Loading CLIP model...\")\n",
    "    device = CONFIG_3_2[\"device\"]\n",
    "    \n",
    "    # <<< FIX: Load model and CONVERT TO FP32\n",
    "    clip_model, image_transform = clip.load(CONFIG_3_2[\"model_name\"], device=device)\n",
    "    clip_model.float()\n",
    "    \n",
    "    dapl_config = CONFIG_3_2[\"dapl_prompt\"]\n",
    "    results = []\n",
    "\n",
    "    # --- Loop over experimental pairs ---\n",
    "    for pair in dapl_config[\"pairs_to_run\"]:\n",
    "        source_domain = pair[\"source\"]\n",
    "        target_domain = pair[\"target\"]\n",
    "        print(\"\\n\" + \"=\"*50)\n",
    "        print(f\"Running Experiment (FP32 Mode): Source='{source_domain}' -> Target='{target_domain}'\")\n",
    "        print(\"=\"*50)\n",
    "\n",
    "        # --- a. Data Preparation ---\n",
    "        print(\"1. Preparing data loaders...\")\n",
    "        source_loader, target_loader, test_loader = get_source_target_loaders(\n",
    "            source_domain, target_domain, image_transform, CONFIG_3_2[\"batch_size\"], CONFIG_3_2[\"dataset_path\"]\n",
    "        )\n",
    "\n",
    "        # --- b. Model and Optimizer Setup ---\n",
    "        print(\"2. Setting up DAPrompt model and optimizer...\")\n",
    "        # <<< FIX: Instantiate the model in 'fp32' mode\n",
    "        model = DAPrompt(CONFIG_3_2, CONFIG_3_2[\"class_names\"], clip_model, precision=\"fp32\").to(device)\n",
    "        \n",
    "        # Freezing logic remains the same\n",
    "        for name, param in model.named_parameters():\n",
    "            if \"ctx\" not in name and \"domain_vectors\" not in name:\n",
    "                param.requires_grad_(False)\n",
    "        \n",
    "        trainable_params = [p for p in model.parameters() if p.requires_grad]\n",
    "        optimizer = optim.AdamW(trainable_params, lr=dapl_config[\"learning_rate\"])\n",
    "        criterion = nn.CrossEntropyLoss()\n",
    "        \n",
    "        # <<< FIX: GradScaler is REMOVED\n",
    "\n",
    "        # --- c. Training Loop ---\n",
    "        print(\"3. Starting training...\")\n",
    "        num_batches = min(len(source_loader), len(target_loader))\n",
    "        \n",
    "        for epoch in range(dapl_config[\"num_epochs\"]):\n",
    "            model.train()\n",
    "            source_iter = iter(source_loader)\n",
    "            target_iter = iter(target_loader)\n",
    "            \n",
    "            total_loss, total_loss_x, total_loss_u = 0, 0, 0\n",
    "            \n",
    "            for step in tqdm(range(num_batches), desc=f\"Epoch {epoch+1}/{dapl_config['num_epochs']}\"):\n",
    "                source_images, source_labels = next(source_iter)\n",
    "                target_images, _ = next(target_iter)\n",
    "                source_images, source_labels = source_images.to(device), source_labels.to(device)\n",
    "                target_images = target_images.to(device)\n",
    "                \n",
    "                optimizer.zero_grad()\n",
    "                \n",
    "                # <<< FIX: 'autocast' is REMOVED\n",
    "                source_logits = model(source_images, domain_name=source_domain)\n",
    "                target_logits = model(target_images, domain_name=target_domain)\n",
    "                loss_x = criterion(source_logits, source_labels)\n",
    "                with torch.no_grad():\n",
    "                    target_probs = torch.softmax(target_logits / dapl_config[\"T\"], dim=-1)\n",
    "                    max_probs, pseudo_labels = torch.max(target_probs, dim=-1)\n",
    "                    mask = (max_probs >= dapl_config[\"TAU\"]).float()\n",
    "                unmasked_loss_u = F.cross_entropy(target_logits, pseudo_labels, reduction=\"none\")\n",
    "                loss_u = (unmasked_loss_u * mask).sum() / (mask.sum() + 1e-6)\n",
    "                loss = loss_x + dapl_config[\"U\"] * loss_u\n",
    "                \n",
    "                # <<< FIX: Standard backward pass, no scaler\n",
    "                loss.backward()\n",
    "                optimizer.step()\n",
    "                \n",
    "                total_loss += loss.item()\n",
    "                total_loss_x += loss_x.item()\n",
    "                if mask.sum() > 0:\n",
    "                    total_loss_u += loss_u.item()\n",
    "\n",
    "            avg_loss = total_loss / num_batches\n",
    "            print(f\"Epoch {epoch+1} Avg Loss: {avg_loss:.4f} (Source: {total_loss_x/num_batches:.4f}, Target: {total_loss_u/num_batches:.4f})\")\n",
    "\n",
    "        # --- d. Evaluation ---\n",
    "        print(\"4. Evaluating on target domain...\")\n",
    "        model.eval()\n",
    "        correct, total = 0, 0\n",
    "        with torch.no_grad():\n",
    "            for images, labels in tqdm(test_loader, desc=\"Evaluating\"):\n",
    "                images, labels = images.to(device), labels.to(device)\n",
    "                outputs = model(images, domain_name=target_domain)\n",
    "                _, predicted = torch.max(outputs.data, 1)\n",
    "                total += labels.size(0)\n",
    "                correct += (predicted == labels).sum().item()\n",
    "        \n",
    "        target_accuracy = 100 * correct / total\n",
    "        print(f\"Final Target Accuracy ({target_domain}): {target_accuracy:.2f}%\")\n",
    "        \n",
    "        results.append({ \"source\": source_domain, \"target\": target_domain, \"target_acc\": target_accuracy })\n",
    "\n",
    "    # --- Print Final Summary Table ---\n",
    "    # ... (this part is unchanged)\n",
    "\n",
    "# Run the entire process\n",
    "main_dapl()"
   ]
  },
  {
   "cell_type": "markdown",
   "metadata": {},
   "source": [
    "# section 3.3:"
   ]
  },
  {
   "cell_type": "code",
   "execution_count": 4,
   "metadata": {
    "execution": {
     "iopub.execute_input": "2025-10-15T00:52:03.990941Z",
     "iopub.status.busy": "2025-10-15T00:52:03.990619Z",
     "iopub.status.idle": "2025-10-15T00:52:03.995632Z",
     "shell.execute_reply": "2025-10-15T00:52:03.994701Z",
     "shell.execute_reply.started": "2025-10-15T00:52:03.990916Z"
    },
    "trusted": true
   },
   "outputs": [
    {
     "name": "stdout",
     "output_type": "stream",
     "text": [
      "Configuration for Task 3.3 loaded.\n"
     ]
    }
   ],
   "source": [
    "CONFIG_3_3 = CONFIG_3_2.copy() # Start with a copy of the previous config\n",
    "\n",
    "CONFIG_3_3[\"gradient_analysis\"] = {\n",
    "    # We'll analyze the most interesting pair from the previous task\n",
    "    \"pair_to_analyze\": {\"source\": \"photo\", \"target\": \"art_painting\"},\n",
    "    \n",
    "    # Define at which steps within each epoch to measure similarity\n",
    "    # Let's measure at the start, middle, and end of the data stream\n",
    "    \"measure_steps\": [0, 2, 5, 8, 10, 12] \n",
    "}\n",
    "\n",
    "# Assuming DAPrompt class, TextEncoder, and get_source_target_loaders are available from previous cells\n",
    "print(\"Configuration for Task 3.3 loaded.\")"
   ]
  },
  {
   "cell_type": "code",
   "execution_count": 5,
   "metadata": {
    "execution": {
     "iopub.execute_input": "2025-10-15T00:52:04.550471Z",
     "iopub.status.busy": "2025-10-15T00:52:04.549718Z",
     "iopub.status.idle": "2025-10-15T00:52:04.555059Z",
     "shell.execute_reply": "2025-10-15T00:52:04.554223Z",
     "shell.execute_reply.started": "2025-10-15T00:52:04.550448Z"
    },
    "trusted": true
   },
   "outputs": [
    {
     "name": "stdout",
     "output_type": "stream",
     "text": [
      "New gradient helper function defined.\n"
     ]
    }
   ],
   "source": [
    "# Cell 2: Gradient Helper Function (New Version)\n",
    "\n",
    "def retrieve_trainable_gradients(model):\n",
    "    \"\"\"\n",
    "    Retrieves a list of gradient tensors from the model's trainable parameters.\n",
    "    Inspired by the _retrieve_grad logic in pcgrad.py.\n",
    "    \"\"\"\n",
    "    grad_list = []\n",
    "    for param in model.parameters():\n",
    "        # Only consider parameters that are being trained\n",
    "        if param.requires_grad and param.grad is not None:\n",
    "            # Clone the gradient to avoid it being modified by subsequent operations\n",
    "            grad_list.append(param.grad.clone())\n",
    "    return grad_list\n",
    "\n",
    "print(\"New gradient helper function defined.\")"
   ]
  },
  {
   "cell_type": "code",
   "execution_count": 8,
   "metadata": {
    "execution": {
     "iopub.execute_input": "2025-10-15T00:52:06.108812Z",
     "iopub.status.busy": "2025-10-15T00:52:06.108069Z",
     "iopub.status.idle": "2025-10-15T00:59:42.063042Z",
     "shell.execute_reply": "2025-10-15T00:59:42.061844Z",
     "shell.execute_reply.started": "2025-10-15T00:52:06.108786Z"
    },
    "trusted": true
   },
   "outputs": [
    {
     "name": "stdout",
     "output_type": "stream",
     "text": [
      "\n",
      "==================================================\n",
      "Running Gradient Analysis (FP32): Source='photo' -> Target='art_painting'\n",
      "==================================================\n"
     ]
    },
    {
     "name": "stderr",
     "output_type": "stream",
     "text": [
      "Epoch 1/10:   0%|          | 0/13 [00:00<?, ?it/s]"
     ]
    },
    {
     "name": "stdout",
     "output_type": "stream",
     "text": [
      "\n",
      "[Analysis] Step 0, Grad Cosine Similarity: 0.5464\n"
     ]
    },
    {
     "name": "stderr",
     "output_type": "stream",
     "text": [
      "Epoch 1/10:  15%|█▌        | 2/13 [00:02<00:12,  1.12s/it]"
     ]
    },
    {
     "name": "stdout",
     "output_type": "stream",
     "text": [
      "\n",
      "[Analysis] Step 2, Grad Cosine Similarity: 0.0000\n"
     ]
    },
    {
     "name": "stderr",
     "output_type": "stream",
     "text": [
      "Epoch 1/10:  38%|███▊      | 5/13 [00:04<00:07,  1.13it/s]"
     ]
    },
    {
     "name": "stdout",
     "output_type": "stream",
     "text": [
      "\n",
      "[Analysis] Step 5, Grad Cosine Similarity: -0.1904\n"
     ]
    },
    {
     "name": "stderr",
     "output_type": "stream",
     "text": [
      "Epoch 1/10:  62%|██████▏   | 8/13 [00:07<00:04,  1.19it/s]"
     ]
    },
    {
     "name": "stdout",
     "output_type": "stream",
     "text": [
      "\n",
      "[Analysis] Step 8, Grad Cosine Similarity: -0.7868\n"
     ]
    },
    {
     "name": "stderr",
     "output_type": "stream",
     "text": [
      "Epoch 1/10:  77%|███████▋  | 10/13 [00:09<00:02,  1.17it/s]"
     ]
    },
    {
     "name": "stdout",
     "output_type": "stream",
     "text": [
      "\n",
      "[Analysis] Step 10, Grad Cosine Similarity: 0.0000\n"
     ]
    },
    {
     "name": "stderr",
     "output_type": "stream",
     "text": [
      "Epoch 1/10:  92%|█████████▏| 12/13 [00:11<00:00,  1.17it/s]"
     ]
    },
    {
     "name": "stdout",
     "output_type": "stream",
     "text": [
      "\n",
      "[Analysis] Step 12, Grad Cosine Similarity: 0.0000\n"
     ]
    },
    {
     "name": "stderr",
     "output_type": "stream",
     "text": [
      "Epoch 1/10: 100%|██████████| 13/13 [00:12<00:00,  1.08it/s]\n",
      "Epoch 2/10:   0%|          | 0/13 [00:00<?, ?it/s]"
     ]
    },
    {
     "name": "stdout",
     "output_type": "stream",
     "text": [
      "\n",
      "[Analysis] Step 13, Grad Cosine Similarity: 0.0000\n"
     ]
    },
    {
     "name": "stderr",
     "output_type": "stream",
     "text": [
      "Epoch 2/10:  15%|█▌        | 2/13 [00:01<00:09,  1.16it/s]"
     ]
    },
    {
     "name": "stdout",
     "output_type": "stream",
     "text": [
      "\n",
      "[Analysis] Step 15, Grad Cosine Similarity: 0.0000\n"
     ]
    },
    {
     "name": "stderr",
     "output_type": "stream",
     "text": [
      "Epoch 2/10:  38%|███▊      | 5/13 [00:04<00:06,  1.21it/s]"
     ]
    },
    {
     "name": "stdout",
     "output_type": "stream",
     "text": [
      "\n",
      "[Analysis] Step 18, Grad Cosine Similarity: 0.0000\n"
     ]
    },
    {
     "name": "stderr",
     "output_type": "stream",
     "text": [
      "Epoch 2/10:  62%|██████▏   | 8/13 [00:06<00:04,  1.23it/s]"
     ]
    },
    {
     "name": "stdout",
     "output_type": "stream",
     "text": [
      "\n",
      "[Analysis] Step 21, Grad Cosine Similarity: -0.8561\n"
     ]
    },
    {
     "name": "stderr",
     "output_type": "stream",
     "text": [
      "Epoch 2/10:  77%|███████▋  | 10/13 [00:08<00:02,  1.20it/s]"
     ]
    },
    {
     "name": "stdout",
     "output_type": "stream",
     "text": [
      "\n",
      "[Analysis] Step 23, Grad Cosine Similarity: 0.0000\n"
     ]
    },
    {
     "name": "stderr",
     "output_type": "stream",
     "text": [
      "Epoch 2/10:  92%|█████████▏| 12/13 [00:10<00:00,  1.18it/s]"
     ]
    },
    {
     "name": "stdout",
     "output_type": "stream",
     "text": [
      "\n",
      "[Analysis] Step 25, Grad Cosine Similarity: 0.0000\n"
     ]
    },
    {
     "name": "stderr",
     "output_type": "stream",
     "text": [
      "Epoch 2/10: 100%|██████████| 13/13 [00:11<00:00,  1.15it/s]\n",
      "Epoch 3/10:   0%|          | 0/13 [00:00<?, ?it/s]"
     ]
    },
    {
     "name": "stdout",
     "output_type": "stream",
     "text": [
      "\n",
      "[Analysis] Step 26, Grad Cosine Similarity: 0.0000\n"
     ]
    },
    {
     "name": "stderr",
     "output_type": "stream",
     "text": [
      "Epoch 3/10:  15%|█▌        | 2/13 [00:01<00:09,  1.17it/s]"
     ]
    },
    {
     "name": "stdout",
     "output_type": "stream",
     "text": [
      "\n",
      "[Analysis] Step 28, Grad Cosine Similarity: 0.0000\n"
     ]
    },
    {
     "name": "stderr",
     "output_type": "stream",
     "text": [
      "Epoch 3/10:  38%|███▊      | 5/13 [00:04<00:06,  1.21it/s]"
     ]
    },
    {
     "name": "stdout",
     "output_type": "stream",
     "text": [
      "\n",
      "[Analysis] Step 31, Grad Cosine Similarity: 0.0000\n"
     ]
    },
    {
     "name": "stderr",
     "output_type": "stream",
     "text": [
      "Epoch 3/10:  62%|██████▏   | 8/13 [00:06<00:04,  1.23it/s]"
     ]
    },
    {
     "name": "stdout",
     "output_type": "stream",
     "text": [
      "\n",
      "[Analysis] Step 34, Grad Cosine Similarity: -0.8611\n"
     ]
    },
    {
     "name": "stderr",
     "output_type": "stream",
     "text": [
      "Epoch 3/10:  77%|███████▋  | 10/13 [00:08<00:02,  1.21it/s]"
     ]
    },
    {
     "name": "stdout",
     "output_type": "stream",
     "text": [
      "\n",
      "[Analysis] Step 36, Grad Cosine Similarity: 0.5691\n"
     ]
    },
    {
     "name": "stderr",
     "output_type": "stream",
     "text": [
      "Epoch 3/10:  92%|█████████▏| 12/13 [00:10<00:00,  1.18it/s]"
     ]
    },
    {
     "name": "stdout",
     "output_type": "stream",
     "text": [
      "\n",
      "[Analysis] Step 38, Grad Cosine Similarity: -0.6573\n"
     ]
    },
    {
     "name": "stderr",
     "output_type": "stream",
     "text": [
      "Epoch 3/10: 100%|██████████| 13/13 [00:11<00:00,  1.15it/s]\n",
      "Epoch 4/10:   0%|          | 0/13 [00:00<?, ?it/s]"
     ]
    },
    {
     "name": "stdout",
     "output_type": "stream",
     "text": [
      "\n",
      "[Analysis] Step 39, Grad Cosine Similarity: 0.4093\n"
     ]
    },
    {
     "name": "stderr",
     "output_type": "stream",
     "text": [
      "Epoch 4/10:  15%|█▌        | 2/13 [00:01<00:09,  1.16it/s]"
     ]
    },
    {
     "name": "stdout",
     "output_type": "stream",
     "text": [
      "\n",
      "[Analysis] Step 41, Grad Cosine Similarity: -0.8302\n"
     ]
    },
    {
     "name": "stderr",
     "output_type": "stream",
     "text": [
      "Epoch 4/10:  38%|███▊      | 5/13 [00:04<00:06,  1.22it/s]"
     ]
    },
    {
     "name": "stdout",
     "output_type": "stream",
     "text": [
      "\n",
      "[Analysis] Step 44, Grad Cosine Similarity: -0.3579\n"
     ]
    },
    {
     "name": "stderr",
     "output_type": "stream",
     "text": [
      "Epoch 4/10:  62%|██████▏   | 8/13 [00:06<00:04,  1.23it/s]"
     ]
    },
    {
     "name": "stdout",
     "output_type": "stream",
     "text": [
      "\n",
      "[Analysis] Step 47, Grad Cosine Similarity: -0.6270\n"
     ]
    },
    {
     "name": "stderr",
     "output_type": "stream",
     "text": [
      "Epoch 4/10:  77%|███████▋  | 10/13 [00:08<00:02,  1.19it/s]"
     ]
    },
    {
     "name": "stdout",
     "output_type": "stream",
     "text": [
      "\n",
      "[Analysis] Step 49, Grad Cosine Similarity: 0.0237\n"
     ]
    },
    {
     "name": "stderr",
     "output_type": "stream",
     "text": [
      "Epoch 4/10:  92%|█████████▏| 12/13 [00:10<00:00,  1.18it/s]"
     ]
    },
    {
     "name": "stdout",
     "output_type": "stream",
     "text": [
      "\n",
      "[Analysis] Step 51, Grad Cosine Similarity: -0.7529\n"
     ]
    },
    {
     "name": "stderr",
     "output_type": "stream",
     "text": [
      "Epoch 4/10: 100%|██████████| 13/13 [00:11<00:00,  1.15it/s]\n",
      "Epoch 5/10:   0%|          | 0/13 [00:00<?, ?it/s]"
     ]
    },
    {
     "name": "stdout",
     "output_type": "stream",
     "text": [
      "\n",
      "[Analysis] Step 52, Grad Cosine Similarity: -0.2850\n"
     ]
    },
    {
     "name": "stderr",
     "output_type": "stream",
     "text": [
      "Epoch 5/10:  15%|█▌        | 2/13 [00:01<00:09,  1.16it/s]"
     ]
    },
    {
     "name": "stdout",
     "output_type": "stream",
     "text": [
      "\n",
      "[Analysis] Step 54, Grad Cosine Similarity: 0.3064\n"
     ]
    },
    {
     "name": "stderr",
     "output_type": "stream",
     "text": [
      "Epoch 5/10:  38%|███▊      | 5/13 [00:04<00:06,  1.22it/s]"
     ]
    },
    {
     "name": "stdout",
     "output_type": "stream",
     "text": [
      "\n",
      "[Analysis] Step 57, Grad Cosine Similarity: -0.2484\n"
     ]
    },
    {
     "name": "stderr",
     "output_type": "stream",
     "text": [
      "Epoch 5/10:  62%|██████▏   | 8/13 [00:06<00:04,  1.22it/s]"
     ]
    },
    {
     "name": "stdout",
     "output_type": "stream",
     "text": [
      "\n",
      "[Analysis] Step 60, Grad Cosine Similarity: 0.0086\n"
     ]
    },
    {
     "name": "stderr",
     "output_type": "stream",
     "text": [
      "Epoch 5/10:  77%|███████▋  | 10/13 [00:08<00:02,  1.19it/s]"
     ]
    },
    {
     "name": "stdout",
     "output_type": "stream",
     "text": [
      "\n",
      "[Analysis] Step 62, Grad Cosine Similarity: 0.1429\n"
     ]
    },
    {
     "name": "stderr",
     "output_type": "stream",
     "text": [
      "Epoch 5/10:  92%|█████████▏| 12/13 [00:10<00:00,  1.18it/s]"
     ]
    },
    {
     "name": "stdout",
     "output_type": "stream",
     "text": [
      "\n",
      "[Analysis] Step 64, Grad Cosine Similarity: -0.0591\n"
     ]
    },
    {
     "name": "stderr",
     "output_type": "stream",
     "text": [
      "Epoch 5/10: 100%|██████████| 13/13 [00:11<00:00,  1.14it/s]\n",
      "Epoch 6/10:   0%|          | 0/13 [00:00<?, ?it/s]"
     ]
    },
    {
     "name": "stdout",
     "output_type": "stream",
     "text": [
      "\n",
      "[Analysis] Step 65, Grad Cosine Similarity: -0.4798\n"
     ]
    },
    {
     "name": "stderr",
     "output_type": "stream",
     "text": [
      "Epoch 6/10:  15%|█▌        | 2/13 [00:01<00:09,  1.16it/s]"
     ]
    },
    {
     "name": "stdout",
     "output_type": "stream",
     "text": [
      "\n",
      "[Analysis] Step 67, Grad Cosine Similarity: -0.1936\n"
     ]
    },
    {
     "name": "stderr",
     "output_type": "stream",
     "text": [
      "Epoch 6/10:  38%|███▊      | 5/13 [00:04<00:06,  1.20it/s]"
     ]
    },
    {
     "name": "stdout",
     "output_type": "stream",
     "text": [
      "\n",
      "[Analysis] Step 70, Grad Cosine Similarity: -0.5457\n"
     ]
    },
    {
     "name": "stderr",
     "output_type": "stream",
     "text": [
      "Epoch 6/10:  62%|██████▏   | 8/13 [00:06<00:04,  1.21it/s]"
     ]
    },
    {
     "name": "stdout",
     "output_type": "stream",
     "text": [
      "\n",
      "[Analysis] Step 73, Grad Cosine Similarity: -0.2645\n"
     ]
    },
    {
     "name": "stderr",
     "output_type": "stream",
     "text": [
      "Epoch 6/10:  77%|███████▋  | 10/13 [00:08<00:02,  1.18it/s]"
     ]
    },
    {
     "name": "stdout",
     "output_type": "stream",
     "text": [
      "\n",
      "[Analysis] Step 75, Grad Cosine Similarity: 0.2318\n"
     ]
    },
    {
     "name": "stderr",
     "output_type": "stream",
     "text": [
      "Epoch 6/10:  92%|█████████▏| 12/13 [00:10<00:00,  1.16it/s]"
     ]
    },
    {
     "name": "stdout",
     "output_type": "stream",
     "text": [
      "\n",
      "[Analysis] Step 77, Grad Cosine Similarity: -0.3536\n"
     ]
    },
    {
     "name": "stderr",
     "output_type": "stream",
     "text": [
      "Epoch 6/10: 100%|██████████| 13/13 [00:11<00:00,  1.13it/s]\n",
      "Epoch 7/10:   0%|          | 0/13 [00:00<?, ?it/s]"
     ]
    },
    {
     "name": "stdout",
     "output_type": "stream",
     "text": [
      "\n",
      "[Analysis] Step 78, Grad Cosine Similarity: -0.3104\n"
     ]
    },
    {
     "name": "stderr",
     "output_type": "stream",
     "text": [
      "Epoch 7/10:  15%|█▌        | 2/13 [00:01<00:09,  1.15it/s]"
     ]
    },
    {
     "name": "stdout",
     "output_type": "stream",
     "text": [
      "\n",
      "[Analysis] Step 80, Grad Cosine Similarity: -0.0461\n"
     ]
    },
    {
     "name": "stderr",
     "output_type": "stream",
     "text": [
      "Epoch 7/10:  38%|███▊      | 5/13 [00:04<00:06,  1.20it/s]"
     ]
    },
    {
     "name": "stdout",
     "output_type": "stream",
     "text": [
      "\n",
      "[Analysis] Step 83, Grad Cosine Similarity: -0.4635\n"
     ]
    },
    {
     "name": "stderr",
     "output_type": "stream",
     "text": [
      "Epoch 7/10:  62%|██████▏   | 8/13 [00:06<00:04,  1.21it/s]"
     ]
    },
    {
     "name": "stdout",
     "output_type": "stream",
     "text": [
      "\n",
      "[Analysis] Step 86, Grad Cosine Similarity: -0.0190\n"
     ]
    },
    {
     "name": "stderr",
     "output_type": "stream",
     "text": [
      "Epoch 7/10:  77%|███████▋  | 10/13 [00:08<00:02,  1.18it/s]"
     ]
    },
    {
     "name": "stdout",
     "output_type": "stream",
     "text": [
      "\n",
      "[Analysis] Step 88, Grad Cosine Similarity: 0.2259\n"
     ]
    },
    {
     "name": "stderr",
     "output_type": "stream",
     "text": [
      "Epoch 7/10:  92%|█████████▏| 12/13 [00:10<00:00,  1.17it/s]"
     ]
    },
    {
     "name": "stdout",
     "output_type": "stream",
     "text": [
      "\n",
      "[Analysis] Step 90, Grad Cosine Similarity: 0.0133\n"
     ]
    },
    {
     "name": "stderr",
     "output_type": "stream",
     "text": [
      "Epoch 7/10: 100%|██████████| 13/13 [00:11<00:00,  1.13it/s]\n",
      "Epoch 8/10:   0%|          | 0/13 [00:00<?, ?it/s]"
     ]
    },
    {
     "name": "stdout",
     "output_type": "stream",
     "text": [
      "\n",
      "[Analysis] Step 91, Grad Cosine Similarity: 0.2254\n"
     ]
    },
    {
     "name": "stderr",
     "output_type": "stream",
     "text": [
      "Epoch 8/10:  15%|█▌        | 2/13 [00:01<00:09,  1.18it/s]"
     ]
    },
    {
     "name": "stdout",
     "output_type": "stream",
     "text": [
      "\n",
      "[Analysis] Step 93, Grad Cosine Similarity: -0.0690\n"
     ]
    },
    {
     "name": "stderr",
     "output_type": "stream",
     "text": [
      "Epoch 8/10:  38%|███▊      | 5/13 [00:04<00:06,  1.21it/s]"
     ]
    },
    {
     "name": "stdout",
     "output_type": "stream",
     "text": [
      "\n",
      "[Analysis] Step 96, Grad Cosine Similarity: 0.0628\n"
     ]
    },
    {
     "name": "stderr",
     "output_type": "stream",
     "text": [
      "Epoch 8/10:  62%|██████▏   | 8/13 [00:06<00:04,  1.23it/s]"
     ]
    },
    {
     "name": "stdout",
     "output_type": "stream",
     "text": [
      "\n",
      "[Analysis] Step 99, Grad Cosine Similarity: 0.0156\n"
     ]
    },
    {
     "name": "stderr",
     "output_type": "stream",
     "text": [
      "Epoch 8/10:  77%|███████▋  | 10/13 [00:08<00:02,  1.20it/s]"
     ]
    },
    {
     "name": "stdout",
     "output_type": "stream",
     "text": [
      "\n",
      "[Analysis] Step 101, Grad Cosine Similarity: 0.1679\n"
     ]
    },
    {
     "name": "stderr",
     "output_type": "stream",
     "text": [
      "Epoch 8/10:  92%|█████████▏| 12/13 [00:10<00:00,  1.19it/s]"
     ]
    },
    {
     "name": "stdout",
     "output_type": "stream",
     "text": [
      "\n",
      "[Analysis] Step 103, Grad Cosine Similarity: -0.0494\n"
     ]
    },
    {
     "name": "stderr",
     "output_type": "stream",
     "text": [
      "Epoch 8/10: 100%|██████████| 13/13 [00:11<00:00,  1.15it/s]\n",
      "Epoch 9/10:   0%|          | 0/13 [00:00<?, ?it/s]"
     ]
    },
    {
     "name": "stdout",
     "output_type": "stream",
     "text": [
      "\n",
      "[Analysis] Step 104, Grad Cosine Similarity: 0.2221\n"
     ]
    },
    {
     "name": "stderr",
     "output_type": "stream",
     "text": [
      "Epoch 9/10:  15%|█▌        | 2/13 [00:01<00:09,  1.17it/s]"
     ]
    },
    {
     "name": "stdout",
     "output_type": "stream",
     "text": [
      "\n",
      "[Analysis] Step 106, Grad Cosine Similarity: -0.1445\n"
     ]
    },
    {
     "name": "stderr",
     "output_type": "stream",
     "text": [
      "Epoch 9/10:  38%|███▊      | 5/13 [00:04<00:06,  1.22it/s]"
     ]
    },
    {
     "name": "stdout",
     "output_type": "stream",
     "text": [
      "\n",
      "[Analysis] Step 109, Grad Cosine Similarity: 0.0114\n"
     ]
    },
    {
     "name": "stderr",
     "output_type": "stream",
     "text": [
      "Epoch 9/10:  62%|██████▏   | 8/13 [00:06<00:04,  1.23it/s]"
     ]
    },
    {
     "name": "stdout",
     "output_type": "stream",
     "text": [
      "\n",
      "[Analysis] Step 112, Grad Cosine Similarity: 0.1908\n"
     ]
    },
    {
     "name": "stderr",
     "output_type": "stream",
     "text": [
      "Epoch 9/10:  77%|███████▋  | 10/13 [00:08<00:02,  1.20it/s]"
     ]
    },
    {
     "name": "stdout",
     "output_type": "stream",
     "text": [
      "\n",
      "[Analysis] Step 114, Grad Cosine Similarity: 0.1143\n"
     ]
    },
    {
     "name": "stderr",
     "output_type": "stream",
     "text": [
      "Epoch 9/10:  92%|█████████▏| 12/13 [00:10<00:00,  1.19it/s]"
     ]
    },
    {
     "name": "stdout",
     "output_type": "stream",
     "text": [
      "\n",
      "[Analysis] Step 116, Grad Cosine Similarity: 0.1876\n"
     ]
    },
    {
     "name": "stderr",
     "output_type": "stream",
     "text": [
      "Epoch 9/10: 100%|██████████| 13/13 [00:11<00:00,  1.15it/s]\n",
      "Epoch 10/10:   0%|          | 0/13 [00:00<?, ?it/s]"
     ]
    },
    {
     "name": "stdout",
     "output_type": "stream",
     "text": [
      "\n",
      "[Analysis] Step 117, Grad Cosine Similarity: 0.1520\n"
     ]
    },
    {
     "name": "stderr",
     "output_type": "stream",
     "text": [
      "Epoch 10/10:  15%|█▌        | 2/13 [00:01<00:09,  1.18it/s]"
     ]
    },
    {
     "name": "stdout",
     "output_type": "stream",
     "text": [
      "\n",
      "[Analysis] Step 119, Grad Cosine Similarity: 0.2725\n"
     ]
    },
    {
     "name": "stderr",
     "output_type": "stream",
     "text": [
      "Epoch 10/10:  38%|███▊      | 5/13 [00:04<00:06,  1.23it/s]"
     ]
    },
    {
     "name": "stdout",
     "output_type": "stream",
     "text": [
      "\n",
      "[Analysis] Step 122, Grad Cosine Similarity: 0.2994\n"
     ]
    },
    {
     "name": "stderr",
     "output_type": "stream",
     "text": [
      "Epoch 10/10:  62%|██████▏   | 8/13 [00:06<00:04,  1.24it/s]"
     ]
    },
    {
     "name": "stdout",
     "output_type": "stream",
     "text": [
      "\n",
      "[Analysis] Step 125, Grad Cosine Similarity: 0.1661\n"
     ]
    },
    {
     "name": "stderr",
     "output_type": "stream",
     "text": [
      "Epoch 10/10:  77%|███████▋  | 10/13 [00:08<00:02,  1.20it/s]"
     ]
    },
    {
     "name": "stdout",
     "output_type": "stream",
     "text": [
      "\n",
      "[Analysis] Step 127, Grad Cosine Similarity: -0.0291\n"
     ]
    },
    {
     "name": "stderr",
     "output_type": "stream",
     "text": [
      "Epoch 10/10:  92%|█████████▏| 12/13 [00:10<00:00,  1.18it/s]"
     ]
    },
    {
     "name": "stdout",
     "output_type": "stream",
     "text": [
      "\n",
      "[Analysis] Step 129, Grad Cosine Similarity: -0.0637\n"
     ]
    },
    {
     "name": "stderr",
     "output_type": "stream",
     "text": [
      "Epoch 10/10: 100%|██████████| 13/13 [00:11<00:00,  1.15it/s]"
     ]
    },
    {
     "name": "stdout",
     "output_type": "stream",
     "text": [
      "\n",
      "Gradient analysis complete.\n"
     ]
    },
    {
     "name": "stderr",
     "output_type": "stream",
     "text": [
      "\n"
     ]
    }
   ],
   "source": [
    "# Cell 2: Main Gradient Analysis Script (Full FP32 Precision Version)\n",
    "\n",
    "def main_gradient_analysis():\n",
    "    # --- Setup ---\n",
    "    device = CONFIG_3_3[\"device\"]\n",
    "    # FIX: Load the model and convert the relevant parts to FP32 immediately\n",
    "    clip_model, image_transform = clip.load(CONFIG_3_3[\"model_name\"], device=device)\n",
    "    clip_model.float()\n",
    "    \n",
    "    analysis_config = CONFIG_3_3[\"gradient_analysis\"]\n",
    "    dapl_config = CONFIG_3_3[\"dapl_prompt\"]\n",
    "    source_domain = analysis_config[\"pair_to_analyze\"][\"source\"]\n",
    "    target_domain = analysis_config[\"pair_to_analyze\"][\"target\"]\n",
    "    \n",
    "    print(\"\\n\" + \"=\"*50)\n",
    "    print(f\"Running Gradient Analysis (FP32): Source='{source_domain}' -> Target='{target_domain}'\")\n",
    "    print(\"=\"*50)\n",
    "\n",
    "    # --- Data, Model, Optimizer ---\n",
    "    source_loader, target_loader, _ = get_source_target_loaders(\n",
    "        source_domain, target_domain, image_transform, CONFIG_3_3[\"batch_size\"], CONFIG_3_3[\"dataset_path\"]\n",
    "    )\n",
    "    model = DAPrompt(CONFIG_3_3, CONFIG_3_3[\"class_names\"], clip_model, precision=\"fp32\").to(device)\n",
    "    trainable_params = [p for p in model.parameters() if p.requires_grad]\n",
    "    optimizer = optim.AdamW(trainable_params, lr=dapl_config[\"learning_rate\"])\n",
    "    criterion = nn.CrossEntropyLoss()\n",
    "    # FIX: GradScaler is REMOVED\n",
    "    \n",
    "    similarity_log = []\n",
    "    \n",
    "    # --- Modified Training Loop ---\n",
    "    num_batches = min(len(source_loader), len(target_loader))\n",
    "    \n",
    "    for epoch in range(dapl_config[\"num_epochs\"]):\n",
    "        model.train()\n",
    "        source_iter = iter(source_loader)\n",
    "        target_iter = iter(target_loader)\n",
    "        \n",
    "        for step in tqdm(range(num_batches), desc=f\"Epoch {epoch+1}/{dapl_config['num_epochs']}\"):\n",
    "            source_images, source_labels = next(source_iter)\n",
    "            target_images, _ = next(target_iter)\n",
    "            source_images, source_labels = source_images.to(device), source_labels.to(device)\n",
    "            target_images = target_images.to(device)\n",
    "            \n",
    "            # --- Forward Pass and Loss Calculation (NO autocast) ---\n",
    "            source_logits = model(source_images, domain_name=source_domain)\n",
    "            target_logits = model(target_images, domain_name=target_domain)\n",
    "            loss_x = criterion(source_logits, source_labels)\n",
    "            with torch.no_grad():\n",
    "                target_probs = torch.softmax(target_logits / dapl_config[\"T\"], dim=-1)\n",
    "                max_probs, pseudo_labels = torch.max(target_probs, dim=-1)\n",
    "                mask = (max_probs >= dapl_config[\"TAU\"]).float()\n",
    "            unmasked_loss_u = F.cross_entropy(target_logits, pseudo_labels, reduction=\"none\")\n",
    "            loss_u = (unmasked_loss_u * mask).sum() / (mask.sum() + 1e-6)\n",
    "\n",
    "            # --- GRADIENT ANALYSIS BLOCK ---\n",
    "            if step in analysis_config[\"measure_steps\"]:\n",
    "                optimizer.zero_grad()\n",
    "                loss_x.backward(retain_graph=True)\n",
    "                grad_source_list = retrieve_trainable_gradients(model)\n",
    "                \n",
    "                optimizer.zero_grad()\n",
    "                loss_u.backward(retain_graph=True)\n",
    "                grad_target_list = retrieve_trainable_gradients(model)\n",
    "                \n",
    "                if grad_source_list and grad_target_list:\n",
    "                    grad_source_flat = torch.cat([g.flatten() for g in grad_source_list])\n",
    "                    grad_target_flat = torch.cat([g.flatten() for g in grad_target_list])\n",
    "                    similarity = F.cosine_similarity(grad_source_flat, grad_target_flat, dim=0).item()\n",
    "                    global_step = epoch * num_batches + step\n",
    "                    similarity_log.append({\"step\": global_step, \"similarity\": similarity})\n",
    "                    print(f\"\\n[Analysis] Step {global_step}, Grad Cosine Similarity: {similarity:.4f}\")\n",
    "            \n",
    "            # --- Standard Training Update Step (NO scaler) ---\n",
    "            optimizer.zero_grad()\n",
    "            loss = loss_x + dapl_config[\"U\"] * loss_u\n",
    "            loss.backward()\n",
    "            optimizer.step()\n",
    "\n",
    "    print(\"\\nGradient analysis complete.\")\n",
    "    return similarity_log\n",
    "\n",
    "# Run the analysis\n",
    "gradient_results = main_gradient_analysis()"
   ]
  },
  {
   "cell_type": "code",
   "execution_count": 9,
   "metadata": {
    "trusted": true
   },
   "outputs": [
    {
     "data": {
      "image/png": "[encoded data removed]",
      "text/plain": [
       "<Figure size 1600x800 with 1 Axes>"
      ]
     },
     "metadata": {},
     "output_type": "display_data"
    }
   ],
   "source": [
    "# Cell 4: Plotting and Visualization (Enhanced Version)\n",
    "\n",
    "import matplotlib.pyplot as plt\n",
    "import numpy as np\n",
    "\n",
    "def plot_gradient_similarity_by_epoch(log, num_epochs, steps_per_epoch):\n",
    "    \"\"\"\n",
    "    Plots the gradient cosine similarity, with epochs clearly demarcated.\n",
    "    \"\"\"\n",
    "    if not log:\n",
    "        print(\"No data to plot.\")\n",
    "        return\n",
    "        \n",
    "    steps = [item['step'] for item in log]\n",
    "    similarities = [item['similarity'] for item in log]\n",
    "    \n",
    "    plt.style.use('seaborn-v0_8-whitegrid')\n",
    "    fig, ax = plt.subplots(figsize=(16, 8))\n",
    "    \n",
    "    # Main plot of the similarity scores\n",
    "    ax.plot(steps, similarities, marker='o', linestyle='-', color='blue', label='Gradient Cosine Similarity', zorder=3)\n",
    "    \n",
    "    # --- Epoch Demarcation ---\n",
    "    for epoch in range(1, num_epochs + 1):\n",
    "        # Position of the vertical line at the end of each epoch\n",
    "        epoch_end_step = epoch * steps_per_epoch\n",
    "        ax.axvline(x=epoch_end_step, color='grey', linestyle='--', linewidth=0.8, alpha=0.7)\n",
    "\n",
    "    # Alternating background color for epochs\n",
    "    for epoch in range(num_epochs):\n",
    "        if (epoch + 1) % 2 == 0: # Shade even-numbered epochs\n",
    "            start_step = epoch * steps_per_epoch\n",
    "            end_step = (epoch + 1) * steps_per_epoch\n",
    "            ax.axvspan(start_step, end_step, color='grey', alpha=0.07, zorder=0)\n",
    "\n",
    "    # Conflict threshold line and shading\n",
    "    ax.axhline(0, color='red', linestyle='--', linewidth=1.5, label='Conflict Threshold (y=0)', zorder=2)\n",
    "    ax.fill_between(steps, similarities, 0, where=np.array(similarities) < 0, \n",
    "                     color='red', alpha=0.15, interpolate=True, zorder=1)\n",
    "    \n",
    "    # --- Ticks and Labels ---\n",
    "    ax.set_title('Gradient Cosine Similarity During Training (Photo -> Art Painting)', fontsize=18, pad=20)\n",
    "    ax.set_xlabel('Training Step', fontsize=14)\n",
    "    ax.set_ylabel('Cosine Similarity', fontsize=14)\n",
    "    ax.legend(fontsize=12)\n",
    "    ax.set_ylim(-1.1, 1.1)\n",
    "    \n",
    "    # Set x-ticks to correspond to epoch boundaries for clarity\n",
    "    tick_locations = [i * steps_per_epoch for i in range(num_epochs + 1)]\n",
    "    tick_labels = [f\"Epoch {i}\\n({loc})\" for i, loc in enumerate(tick_locations)]\n",
    "    ax.set_xticks(tick_locations)\n",
    "    ax.set_xticklabels(tick_labels)\n",
    "    ax.tick_params(axis='x', labelsize=10)\n",
    "    ax.tick_params(axis='y', labelsize=10)\n",
    "    \n",
    "    plt.tight_layout()\n",
    "    plt.show()\n",
    "\n",
    "# --- HOW TO RUN ---\n",
    "# We need to know the number of epochs and steps per epoch from our config\n",
    "# Make sure your main script calculates and returns or prints this.\n",
    "# Let's assume you ran with these settings:\n",
    "NUM_EPOCHS = CONFIG_3_3[\"dapl_prompt\"][\"num_epochs\"]\n",
    "# Calculate steps per epoch (based on your tqdm output, it was 52)\n",
    "# A robust way to get this is to get the length of one of the dataloaders\n",
    "source_loader, target_loader, _ = get_source_target_loaders(\n",
    "    CONFIG_3_3[\"gradient_analysis\"][\"pair_to_analyze\"][\"source\"],\n",
    "    CONFIG_3_3[\"gradient_analysis\"][\"pair_to_analyze\"][\"target\"],\n",
    "    None, # We don't need the transform, just the loader length\n",
    "    CONFIG_3_3[\"batch_size\"],\n",
    "    CONFIG_3_3[\"dataset_path\"]\n",
    ")\n",
    "STEPS_PER_EPOCH = min(len(source_loader), len(target_loader))\n",
    "\n",
    "\n",
    "# Plot the results from the analysis using the new function\n",
    "# Make sure `gradient_results` holds the output from your `main_gradient_analysis()` run\n",
    "plot_gradient_similarity_by_epoch(gradient_results, NUM_EPOCHS, STEPS_PER_EPOCH)"
   ]
  },
  {
   "cell_type": "markdown",
   "metadata": {},
   "source": [
    "# section 3.4 (part A):"
   ]
  },
  {
   "cell_type": "code",
   "execution_count": 44,
   "metadata": {},
   "outputs": [
    {
     "name": "stdout",
     "output_type": "stream",
     "text": [
      "Configuration for Task 3.4 loaded and seed set.\n",
      "Device: cuda\n"
     ]
    }
   ],
   "source": [
    "import torch\n",
    "import torch.nn as nn\n",
    "import torch.optim as optim\n",
    "from torch.utils.data import DataLoader, Dataset, Subset\n",
    "from torchvision.datasets import ImageFolder\n",
    "from torch.nn import functional as F\n",
    "from tqdm import tqdm\n",
    "import os\n",
    "import random\n",
    "import numpy as np\n",
    "from clip import clip\n",
    "import matplotlib.pyplot as plt\n",
    "import seaborn as sns\n",
    "import pandas as pd\n",
    "\n",
    "# --- Environment and Seeding ---\n",
    "os.environ[\"TOKENIZERS_PARALLELISM\"] = \"false\"\n",
    "\n",
    "def set_seed(seed):\n",
    "    random.seed(seed)\n",
    "    np.random.seed(seed)\n",
    "    torch.manual_seed(seed)\n",
    "    if torch.cuda.is_available():\n",
    "        torch.cuda.manual_seed_all(seed)\n",
    "    torch.backends.cudnn.deterministic = True\n",
    "    torch.backends.cudnn.benchmark = False\n",
    "\n",
    "# --- Main Configuration for Task 3.4 ---\n",
    "CONFIG_3_4 = {\n",
    "    \"dataset_path\": \"D:\\Salaar Masood\\pacs-dataset\\pacs_data\",\n",
    "    \"domains\": [\"art_painting\", \"cartoon\", \"photo\", \"sketch\"],\n",
    "    \"model_name\": \"ViT-B/32\",\n",
    "    \"batch_size\": 128,\n",
    "    \"device\": \"cuda\" if torch.cuda.is_available() else \"cpu\",\n",
    "    \"seed\": 42,\n",
    "\n",
    "    # --- Open-Set Experiment Config ---\n",
    "    \"open_set\": {\n",
    "        \"all_class_names\": [\"dog\", \"elephant\", \"giraffe\", \"guitar\", \"horse\", \"house\", \"person\"],\n",
    "        \"seen_classes\": [\"dog\", \"elephant\", \"giraffe\", \"guitar\", \"house\"],\n",
    "        \"unseen_classes\": [\"horse\", \"person\"],\n",
    "        \"training_pair\": {\"source\": \"photo\", \"target\": \"art_painting\"},\n",
    "        \"num_epochs\": 10,\n",
    "        \"learning_rate\": 5e-5,\n",
    "    },\n",
    "    \n",
    "    # Re-use dapl_prompt config for model architecture\n",
    "    \"dapl_prompt\": {\n",
    "        \"n_ctx\": 16, \"n_dmx\": 16, \"T\": 1.0, \"TAU\": 0.7, \"U\": 1.0,\n",
    "    }\n",
    "}\n",
    "\n",
    "# Set the seed for the entire experiment\n",
    "set_seed(CONFIG_3_4[\"seed\"])\n",
    "print(\"Configuration for Task 3.4 loaded and seed set.\")\n",
    "print(f\"Device: {CONFIG_3_4['device']}\")"
   ]
  },
  {
   "cell_type": "code",
   "execution_count": 45,
   "metadata": {},
   "outputs": [
    {
     "name": "stdout",
     "output_type": "stream",
     "text": [
      "Corrected open-set data preparation functions defined.\n"
     ]
    }
   ],
   "source": [
    "# Cell 2: Data Preparation for Open-Set Experiment (DEFINITIVE FINAL VERSION)\n",
    "\n",
    "from torch.utils.data import Dataset, Subset\n",
    "\n",
    "class RemappedDataset(Dataset):\n",
    "    \"\"\" A wrapper that remaps labels from an old index to a new one. \"\"\"\n",
    "    def __init__(self, subset_dataset, old_idx_to_new_idx):\n",
    "        self.subset_dataset = subset_dataset\n",
    "        self.remapping_dict = old_idx_to_new_idx\n",
    "\n",
    "    def __len__(self):\n",
    "        return len(self.subset_dataset)\n",
    "\n",
    "    def __getitem__(self, idx):\n",
    "        image, old_label_idx = self.subset_dataset[idx]\n",
    "        # Apply the explicit remapping\n",
    "        new_label_idx = self.remapping_dict[old_label_idx]\n",
    "        return image, new_label_idx\n",
    "\n",
    "def get_filtered_dataset(domain_name, transform, ordered_class_list):\n",
    "    \"\"\"\n",
    "    Creates a remapped dataset, ensuring the new labels (0, 1, 2...)\n",
    "    perfectly correspond to the order of `ordered_class_list`.\n",
    "    \"\"\"\n",
    "    domain_path = os.path.join(CONFIG_3_4[\"dataset_path\"], domain_name)\n",
    "    full_dataset = ImageFolder(root=domain_path, transform=transform)\n",
    "    \n",
    "    # --- The Core Fix: Build mapping based on the list order, not dict order ---\n",
    "    # 1. Get the original mapping from the full dataset\n",
    "    original_class_to_idx = full_dataset.class_to_idx\n",
    "    \n",
    "    # 2. Create the new mapping by iterating through the ORDERED list\n",
    "    old_idx_to_new_idx = {\n",
    "        original_class_to_idx[class_name]: new_idx\n",
    "        for new_idx, class_name in enumerate(ordered_class_list)\n",
    "    }\n",
    "    \n",
    "    # 3. Get the original indices of all samples we want to keep\n",
    "    indices_to_keep = [\n",
    "        i for i, (path, label) in enumerate(full_dataset.samples) \n",
    "        if full_dataset.classes[label] in ordered_class_list\n",
    "    ]\n",
    "            \n",
    "    # 4. Create a subset and wrap it with our remapping class\n",
    "    filtered_subset = Subset(full_dataset, indices_to_keep)\n",
    "    remapped_dataset = RemappedDataset(filtered_subset, old_idx_to_new_idx)\n",
    "    \n",
    "    print(f\"Created filtered dataset for '{domain_name}'. Label mapping is now guaranteed to match class order.\")\n",
    "    # Optional: print the mapping to prove it's correct\n",
    "    # print(f\"  Mapping old_idx -> new_idx: {remapped_dataset.remapping_dict}\")\n",
    "    \n",
    "    return remapped_dataset\n",
    "\n",
    "print(\"Corrected open-set data preparation functions defined.\")"
   ]
  },
  {
   "cell_type": "code",
   "execution_count": 46,
   "metadata": {},
   "outputs": [
    {
     "name": "stdout",
     "output_type": "stream",
     "text": [
      "\n",
      "============================================================\n",
      "PART 1: TRAINING THE SPECIALIST MODEL ON 5 SEEN CLASSES\n",
      "============================================================\n",
      "1. Preparing training data loaders for source='photo' and target='art_painting'...\n",
      "   Training ONLY on these classes: ['dog', 'elephant', 'giraffe', 'guitar', 'house']\n",
      "Created filtered dataset for 'photo'. Label mapping is now guaranteed to match class order.\n",
      "Created filtered dataset for 'art_painting'. Label mapping is now guaranteed to match class order.\n",
      "2. Starting training...\n"
     ]
    },
    {
     "name": "stderr",
     "output_type": "stream",
     "text": [
      "Epoch 1/10: 100%|██████████| 9/9 [00:05<00:00,  1.55it/s]\n"
     ]
    },
    {
     "name": "stdout",
     "output_type": "stream",
     "text": [
      "   Epoch 1 Avg Loss: 1.3312 (Source: 1.2811, Target: 0.0502)\n"
     ]
    },
    {
     "name": "stderr",
     "output_type": "stream",
     "text": [
      "Epoch 2/10: 100%|██████████| 9/9 [00:09<00:00,  1.06s/it]\n"
     ]
    },
    {
     "name": "stdout",
     "output_type": "stream",
     "text": [
      "   Epoch 2 Avg Loss: 1.3847 (Source: 1.3488, Target: 0.0360)\n"
     ]
    },
    {
     "name": "stderr",
     "output_type": "stream",
     "text": [
      "Epoch 3/10: 100%|██████████| 9/9 [00:10<00:00,  1.17s/it]\n"
     ]
    },
    {
     "name": "stdout",
     "output_type": "stream",
     "text": [
      "   Epoch 3 Avg Loss: 1.0856 (Source: 1.0760, Target: 0.0097)\n"
     ]
    },
    {
     "name": "stderr",
     "output_type": "stream",
     "text": [
      "Epoch 4/10: 100%|██████████| 9/9 [00:09<00:00,  1.09s/it]\n"
     ]
    },
    {
     "name": "stdout",
     "output_type": "stream",
     "text": [
      "   Epoch 4 Avg Loss: 0.6916 (Source: 0.6879, Target: 0.0038)\n"
     ]
    },
    {
     "name": "stderr",
     "output_type": "stream",
     "text": [
      "Epoch 5/10: 100%|██████████| 9/9 [00:10<00:00,  1.15s/it]\n"
     ]
    },
    {
     "name": "stdout",
     "output_type": "stream",
     "text": [
      "   Epoch 5 Avg Loss: 0.3254 (Source: 0.3235, Target: 0.0018)\n"
     ]
    },
    {
     "name": "stderr",
     "output_type": "stream",
     "text": [
      "Epoch 6/10: 100%|██████████| 9/9 [00:10<00:00,  1.22s/it]\n"
     ]
    },
    {
     "name": "stdout",
     "output_type": "stream",
     "text": [
      "   Epoch 6 Avg Loss: 0.1542 (Source: 0.1501, Target: 0.0041)\n"
     ]
    },
    {
     "name": "stderr",
     "output_type": "stream",
     "text": [
      "Epoch 7/10: 100%|██████████| 9/9 [00:09<00:00,  1.06s/it]\n"
     ]
    },
    {
     "name": "stdout",
     "output_type": "stream",
     "text": [
      "   Epoch 7 Avg Loss: 0.0579 (Source: 0.0538, Target: 0.0041)\n"
     ]
    },
    {
     "name": "stderr",
     "output_type": "stream",
     "text": [
      "Epoch 8/10: 100%|██████████| 9/9 [00:10<00:00,  1.16s/it]\n"
     ]
    },
    {
     "name": "stdout",
     "output_type": "stream",
     "text": [
      "   Epoch 8 Avg Loss: 0.0644 (Source: 0.0626, Target: 0.0018)\n"
     ]
    },
    {
     "name": "stderr",
     "output_type": "stream",
     "text": [
      "Epoch 9/10: 100%|██████████| 9/9 [00:06<00:00,  1.37it/s]\n"
     ]
    },
    {
     "name": "stdout",
     "output_type": "stream",
     "text": [
      "   Epoch 9 Avg Loss: 0.0187 (Source: 0.0181, Target: 0.0006)\n"
     ]
    },
    {
     "name": "stderr",
     "output_type": "stream",
     "text": [
      "Epoch 10/10: 100%|██████████| 9/9 [00:05<00:00,  1.54it/s]"
     ]
    },
    {
     "name": "stdout",
     "output_type": "stream",
     "text": [
      "   Epoch 10 Avg Loss: 0.0780 (Source: 0.0768, Target: 0.0012)\n",
      "\n",
      "--- Specialist model training complete. ---\n",
      "\n"
     ]
    },
    {
     "name": "stderr",
     "output_type": "stream",
     "text": [
      "\n"
     ]
    }
   ],
   "source": [
    "# Cell 3: Training the \"Specialist\" Model (FINAL, CORRECTED LOGIC)\n",
    "\n",
    "def main_train_specialist_model():\n",
    "    print(\"\\n\" + \"=\"*60)\n",
    "    print(\"PART 1: TRAINING THE SPECIALIST MODEL ON 5 SEEN CLASSES\")\n",
    "    print(\"=\"*60)\n",
    "    \n",
    "    device = CONFIG_3_4[\"device\"]\n",
    "    os_config = CONFIG_3_4[\"open_set\"]\n",
    "    dapl_config = CONFIG_3_4[\"dapl_prompt\"]\n",
    "    source_domain = os_config[\"training_pair\"][\"source\"]\n",
    "    target_domain = os_config[\"training_pair\"][\"target\"]\n",
    "    \n",
    "    clip_model, image_transform = clip.load(CONFIG_3_4[\"model_name\"], device=device)\n",
    "    clip_model.float()\n",
    "\n",
    "    print(f\"1. Preparing training data loaders for source='{source_domain}' and target='{target_domain}'...\")\n",
    "    print(f\"   Training ONLY on these classes: {os_config['seen_classes']}\")\n",
    "    source_train_dataset = get_filtered_dataset(source_domain, image_transform, os_config[\"seen_classes\"])\n",
    "    target_train_dataset = get_filtered_dataset(target_domain, image_transform, os_config[\"seen_classes\"])\n",
    "    \n",
    "    source_loader = DataLoader(source_train_dataset, batch_size=CONFIG_3_4[\"batch_size\"], shuffle=True)\n",
    "    target_loader = DataLoader(target_train_dataset, batch_size=CONFIG_3_4[\"batch_size\"], shuffle=True)\n",
    "\n",
    "    model = DAPrompt(CONFIG_3_4, os_config[\"seen_classes\"], clip_model, precision=\"fp32\").to(device)\n",
    "    \n",
    "    trainable_params = [p for p in model.parameters() if p.requires_grad]\n",
    "    optimizer = optim.AdamW(trainable_params, lr=os_config[\"learning_rate\"])\n",
    "    criterion = nn.CrossEntropyLoss()\n",
    "\n",
    "    print(\"2. Starting training...\")\n",
    "    num_batches = min(len(source_loader), len(target_loader))\n",
    "    \n",
    "    for epoch in range(os_config[\"num_epochs\"]):\n",
    "        model.train()\n",
    "        source_iter = iter(source_loader)\n",
    "        target_iter = iter(target_loader)\n",
    "        total_loss, total_loss_x, total_loss_u = 0, 0, 0\n",
    "        \n",
    "        for step in tqdm(range(num_batches), desc=f\"Epoch {epoch+1}/{os_config['num_epochs']}\"):\n",
    "            source_images, source_labels = next(source_iter)\n",
    "            target_images, _ = next(target_iter)\n",
    "            source_images, source_labels = source_images.to(device), source_labels.to(device)\n",
    "            target_images = target_images.to(device)\n",
    "            \n",
    "            optimizer.zero_grad()\n",
    "            source_logits = model(source_images, domain_name=source_domain)\n",
    "            target_logits = model(target_images, domain_name=target_domain)\n",
    "            loss_x = criterion(source_logits, source_labels)\n",
    "            \n",
    "            # <<< THE FIX IS HERE - MIRRORING YOUR WORKING 3.2 LOGIC >>>\n",
    "            with torch.no_grad():\n",
    "                target_probs = torch.softmax(target_logits / dapl_config[\"T\"], dim=-1)\n",
    "                max_probs, pseudo_labels = torch.max(target_probs, dim=-1)\n",
    "                mask = (max_probs >= dapl_config[\"TAU\"]).float()\n",
    "\n",
    "            loss_u = 0.0\n",
    "            if mask.sum() > 0:\n",
    "                unmasked_loss_u = F.cross_entropy(target_logits, pseudo_labels, reduction=\"none\")\n",
    "                loss_u = (unmasked_loss_u * mask).sum() / mask.sum()\n",
    "\n",
    "            loss = loss_x + dapl_config[\"U\"] * loss_u\n",
    "            \n",
    "            loss.backward()\n",
    "            optimizer.step()\n",
    "\n",
    "            # Correctly accumulate losses\n",
    "            total_loss += loss.item()\n",
    "            total_loss_x += loss_x.item()\n",
    "            if isinstance(loss_u, torch.Tensor): # Only add if it was calculated\n",
    "                total_loss_u += loss_u.item()\n",
    "        \n",
    "        avg_loss_u = total_loss_u / num_batches if total_loss_u > 0 else 0.0\n",
    "        print(f\"   Epoch {epoch+1} Avg Loss: {total_loss/num_batches:.4f} (Source: {total_loss_x/num_batches:.4f}, Target: {avg_loss_u:.4f})\")\n",
    "\n",
    "    print(\"\\n--- Specialist model training complete. ---\\n\")\n",
    "    \n",
    "    learnable_params_dict = {\n",
    "        \"ctx\": model.ctx.detach().clone(),\n",
    "        \"domain_vectors\": model.domain_vectors.detach().clone()\n",
    "    }\n",
    "    return learnable_params_dict\n",
    "\n",
    "# --- Main execution block ---\n",
    "specialist_params = main_train_specialist_model()"
   ]
  },
  {
   "cell_type": "code",
   "execution_count": 53,
   "metadata": {},
   "outputs": [
    {
     "name": "stdout",
     "output_type": "stream",
     "text": [
      "\n",
      "############################################################\n",
      "EVALUATING ZERO-SHOT CLIP (GENERALIST)\n",
      "############################################################\n",
      "\n",
      "============================================================\n",
      "EVALUATING 'Zero-Shot CLIP (Generalist)' ON DOMAIN: PHOTO\n",
      "============================================================\n",
      "1. Preparing test data loader for domain='photo' (ALL 7 classes)...\n",
      "2. Calculating MSP scores...\n",
      "   Model is Zero-Shot. Using prompts for ALL 7 classes.\n"
     ]
    },
    {
     "name": "stderr",
     "output_type": "stream",
     "text": [
      "Evaluating (photo): 100%|██████████| 14/14 [00:03<00:00,  4.28it/s]\n"
     ]
    },
    {
     "name": "stdout",
     "output_type": "stream",
     "text": [
      "\n",
      "--- Results ---\n",
      "Mean MSP on SEEN classes:   0.9880\n",
      "Mean MSP on UNSEEN classes: 0.9902\n",
      "\n",
      "============================================================\n",
      "EVALUATING 'Zero-Shot CLIP (Generalist)' ON DOMAIN: ART_PAINTING\n",
      "============================================================\n",
      "1. Preparing test data loader for domain='art_painting' (ALL 7 classes)...\n",
      "2. Calculating MSP scores...\n",
      "   Model is Zero-Shot. Using prompts for ALL 7 classes.\n"
     ]
    },
    {
     "name": "stderr",
     "output_type": "stream",
     "text": [
      "Evaluating (art_painting): 100%|██████████| 16/16 [00:04<00:00,  3.72it/s]\n"
     ]
    },
    {
     "name": "stdout",
     "output_type": "stream",
     "text": [
      "\n",
      "--- Results ---\n",
      "Mean MSP on SEEN classes:   0.9360\n",
      "Mean MSP on UNSEEN classes: 0.9265\n",
      "\n",
      "############################################################\n",
      "EVALUATING TUNED DAPROMPT (SPECIALIST)\n",
      "############################################################\n",
      "\n",
      "============================================================\n",
      "EVALUATING 'Tuned DAPrompt (Specialist)' ON DOMAIN: PHOTO\n",
      "============================================================\n",
      "1. Preparing test data loader for domain='photo' (ALL 7 classes)...\n",
      "2. Calculating MSP scores...\n",
      "   Model is Tuned Specialist. Using prompts for SEEN 5 classes.\n"
     ]
    },
    {
     "name": "stderr",
     "output_type": "stream",
     "text": [
      "Evaluating (photo): 100%|██████████| 14/14 [00:03<00:00,  3.97it/s]\n"
     ]
    },
    {
     "name": "stdout",
     "output_type": "stream",
     "text": [
      "\n",
      "--- Results ---\n",
      "Mean MSP on SEEN classes:   0.9075\n",
      "Mean MSP on UNSEEN classes: 0.3292\n",
      "\n",
      "============================================================\n",
      "EVALUATING 'Tuned DAPrompt (Specialist)' ON DOMAIN: ART_PAINTING\n",
      "============================================================\n",
      "1. Preparing test data loader for domain='art_painting' (ALL 7 classes)...\n",
      "2. Calculating MSP scores...\n",
      "   Model is Tuned Specialist. Using prompts for SEEN 5 classes.\n"
     ]
    },
    {
     "name": "stderr",
     "output_type": "stream",
     "text": [
      "Evaluating (art_painting): 100%|██████████| 16/16 [00:04<00:00,  3.64it/s]"
     ]
    },
    {
     "name": "stdout",
     "output_type": "stream",
     "text": [
      "\n",
      "--- Results ---\n",
      "Mean MSP on SEEN classes:   0.8200\n",
      "Mean MSP on UNSEEN classes: 0.3623\n"
     ]
    },
    {
     "name": "stderr",
     "output_type": "stream",
     "text": [
      "\n"
     ]
    }
   ],
   "source": [
    "import pandas as pd\n",
    "import seaborn as sns\n",
    "import matplotlib.pyplot as plt\n",
    "import numpy as np\n",
    "import os\n",
    "from tqdm import tqdm\n",
    "from torch.utils.data import DataLoader\n",
    "from torchvision.datasets import ImageFolder\n",
    "from clip import clip\n",
    "import torch\n",
    "\n",
    "# ===========================================\n",
    "# Cell 4: Updated Evaluation Function and Execution\n",
    "# ===========================================\n",
    "\n",
    "def main_evaluate_open_set(specialist_params, domain_name, is_zeroshot=False):\n",
    "    model_name = \"Zero-Shot CLIP (Generalist)\" if is_zeroshot else \"Tuned DAPrompt (Specialist)\"\n",
    "    print(\"\\n\" + \"=\"*60)\n",
    "    print(f\"EVALUATING '{model_name}' ON DOMAIN: {domain_name.upper()}\")\n",
    "    print(\"=\"*60)\n",
    "    \n",
    "    device = CONFIG_3_4[\"device\"]\n",
    "    os_config = CONFIG_3_4[\"open_set\"]\n",
    "\n",
    "    # --- Load CLIP backbone ---\n",
    "    clip_model, image_transform = clip.load(CONFIG_3_4[\"model_name\"], device=device)\n",
    "    clip_model.float().eval()\n",
    "\n",
    "    # --- Load test dataset ---\n",
    "    print(f\"1. Preparing test data loader for domain='{domain_name}' (ALL 7 classes)...\")\n",
    "    full_test_dataset = ImageFolder(\n",
    "        os.path.join(CONFIG_3_4[\"dataset_path\"], domain_name),\n",
    "        transform=image_transform\n",
    "    )\n",
    "    test_loader = DataLoader(full_test_dataset, batch_size=CONFIG_3_4[\"batch_size\"], shuffle=False)\n",
    "\n",
    "    print(\"2. Calculating MSP scores...\")\n",
    "    results = {\"seen_msp\": [], \"unseen_msp\": []}\n",
    "\n",
    "    # --- Model setup ---\n",
    "    if is_zeroshot:\n",
    "        print(\"   Model is Zero-Shot. Using prompts for ALL 7 classes.\")\n",
    "        prompts = [f\"a photo of a {c.replace('_', ' ')}.\" for c in os_config[\"all_class_names\"]]\n",
    "        text_inputs = clip.tokenize(prompts).to(device)\n",
    "        with torch.no_grad():\n",
    "            text_features = clip_model.encode_text(text_inputs)\n",
    "            text_features /= text_features.norm(dim=-1, keepdim=True)\n",
    "    else:\n",
    "        print(\"   Model is Tuned Specialist. Using prompts for SEEN 5 classes.\")\n",
    "        eval_model = DAPrompt(CONFIG_3_4, os_config[\"seen_classes\"], clip_model, precision=\"fp32\").to(device)\n",
    "        eval_model.ctx.data.copy_(specialist_params[\"ctx\"])\n",
    "        eval_model.domain_vectors.data.copy_(specialist_params[\"domain_vectors\"])\n",
    "        eval_model.eval()\n",
    "\n",
    "    # --- Evaluation loop ---\n",
    "    with torch.no_grad():\n",
    "        for images, labels in tqdm(test_loader, desc=f\"Evaluating ({domain_name})\"):\n",
    "            images = images.to(device)\n",
    "            # The original code had a small inefficiency here. It's fixed in this version.\n",
    "            # No need to re-encode the image inside the DAPrompt forward pass.\n",
    "            \n",
    "            if is_zeroshot:\n",
    "                image_features = clip_model.encode_image(images)\n",
    "                image_features /= image_features.norm(dim=-1, keepdim=True)\n",
    "                logits = clip_model.logit_scale.exp() * image_features @ text_features.t()\n",
    "            else:\n",
    "                # Assuming your DAPrompt's `forward` now takes pre-computed features\n",
    "                # for efficiency, as discussed previously. If not, this still works.\n",
    "                logits = eval_model(images, domain_name=domain_name)\n",
    "\n",
    "            probs = torch.softmax(logits, dim=1)\n",
    "            max_probs, _ = torch.max(probs, dim=1)\n",
    "\n",
    "            for i in range(len(labels)):\n",
    "                true_label_name = full_test_dataset.classes[labels[i].item()]\n",
    "                if true_label_name in os_config[\"seen_classes\"]:\n",
    "                    results[\"seen_msp\"].append(max_probs[i].item())\n",
    "                else:\n",
    "                    results[\"unseen_msp\"].append(max_probs[i].item())\n",
    "\n",
    "    mean_seen_msp = np.mean(results[\"seen_msp\"]) if results[\"seen_msp\"] else 0\n",
    "    mean_unseen_msp = np.mean(results[\"unseen_msp\"]) if results[\"unseen_msp\"] else 0\n",
    "\n",
    "    print(\"\\n--- Results ---\")\n",
    "    print(f\"Mean MSP on SEEN classes:   {mean_seen_msp:.4f}\")\n",
    "    print(f\"Mean MSP on UNSEEN classes: {mean_unseen_msp:.4f}\")\n",
    "    \n",
    "    # ================================================================= #\n",
    "    # ## THE ONLY CHANGE IS HERE ##                                     #\n",
    "    # We return the dictionary containing the LISTS of MSP scores,      #\n",
    "    # not just the means. This provides the data for the box plot.      #\n",
    "    # ================================================================= #\n",
    "    return results\n",
    "\n",
    "\n",
    "# --- Run Evaluation on BOTH Source and Target ---\n",
    "source_domain = CONFIG_3_4[\"open_set\"][\"training_pair\"][\"source\"]\n",
    "target_domain = CONFIG_3_4[\"open_set\"][\"training_pair\"][\"target\"]\n",
    "\n",
    "print(\"\\n\" + \"#\"*60)\n",
    "print(\"EVALUATING ZERO-SHOT CLIP (GENERALIST)\")\n",
    "print(\"#\"*60)\n",
    "zeroshot_source_results = main_evaluate_open_set(None, domain_name=source_domain, is_zeroshot=True)\n",
    "zeroshot_target_results = main_evaluate_open_set(None, domain_name=target_domain, is_zeroshot=True)\n",
    "\n",
    "print(\"\\n\" + \"#\"*60)\n",
    "print(\"EVALUATING TUNED DAPROMPT (SPECIALIST)\")\n",
    "print(\"#\"*60)\n",
    "tuned_source_results = main_evaluate_open_set(specialist_params, domain_name=source_domain, is_zeroshot=False)\n",
    "tuned_target_results = main_evaluate_open_set(specialist_params, domain_name=target_domain, is_zeroshot=False)\n"
   ]
  },
  {
   "cell_type": "code",
   "execution_count": 56,
   "metadata": {},
   "outputs": [
    {
     "name": "stdout",
     "output_type": "stream",
     "text": [
      "\n",
      "============================================================\n",
      "PART 3: VISUALIZING THE RESULTS\n",
      "============================================================\n"
     ]
    },
    {
     "data": {
      "image/png": "[encoded data removed]",
      "text/plain": [
       "<Figure size 1524.25x800 with 2 Axes>"
      ]
     },
     "metadata": {},
     "output_type": "display_data"
    },
    {
     "name": "stdout",
     "output_type": "stream",
     "text": [
      "\n",
      "--- Summary Table: Mean MSP ---\n",
      "Class Type                                    Seen    Unseen\n",
      "Model                       Domain                          \n",
      "Tuned DAPrompt (Specialist) Art_painting  0.820020  0.362278\n",
      "                            Photo         0.907545  0.329186\n",
      "Zero-Shot CLIP (Generalist) Art_painting  0.935983  0.926518\n",
      "                            Photo         0.987962  0.990206\n",
      "-----------------------------------\n"
     ]
    }
   ],
   "source": [
    "import pandas as pd\n",
    "import seaborn as sns\n",
    "import matplotlib.pyplot as plt\n",
    "import numpy as np\n",
    "\n",
    "# Assuming all your result variables (zeroshot_source_results, etc.) \n",
    "# and domain name variables are defined from the previous cell.\n",
    "\n",
    "print(\"\\n\" + \"=\"*60)\n",
    "print(\"PART 3: VISUALIZING THE RESULTS\")\n",
    "print(\"=\"*60)\n",
    "\n",
    "# --- 1. Prepare data for plotting ---\n",
    "all_results = [\n",
    "    (zeroshot_source_results, \"Zero-Shot CLIP (Generalist)\", source_domain),\n",
    "    (zeroshot_target_results, \"Zero-Shot CLIP (Generalist)\", target_domain),\n",
    "    (tuned_source_results, \"Tuned DAPrompt (Specialist)\", source_domain),\n",
    "    (tuned_target_results, \"Tuned DAPrompt (Specialist)\", target_domain)\n",
    "]\n",
    "\n",
    "data_for_df = []\n",
    "for result_dict, model_name, domain_name in all_results:\n",
    "    for msp in result_dict['seen_msp']:\n",
    "        data_for_df.append({\"MSP\": msp, \"Class Type\": \"Seen\", \"Model\": model_name, \"Domain\": domain_name.capitalize()})\n",
    "    for msp in result_dict['unseen_msp']:\n",
    "        data_for_df.append({\"MSP\": msp, \"Class Type\": \"Unseen\", \"Model\": model_name, \"Domain\": domain_name.capitalize()})\n",
    "\n",
    "df = pd.DataFrame(data_for_df)\n",
    "\n",
    "# --- 2. Create the plot using catplot (now with violin kind) ---\n",
    "g = sns.catplot(\n",
    "    data=df,\n",
    "    x=\"Class Type\", \n",
    "    y=\"MSP\", \n",
    "    hue=\"Domain\",\n",
    "    col=\"Model\",\n",
    "    kind=\"violin\",      # Changed to violin plot 🎻\n",
    "    palette=\"viridis\",\n",
    "    inner=\"quartile\",   # Shows quartiles inside the violins\n",
    "    linewidth=1.2,\n",
    "    sharey=True\n",
    ")\n",
    "\n",
    "# --- 3. Customize titles, labels, and fix formatting ---\n",
    "\n",
    "# Set the overall figure size for better spacing\n",
    "g.fig.set_size_inches(14, 8)\n",
    "\n",
    "# Set the main title\n",
    "g.fig.suptitle(\"Confidence (MSP) on Seen vs. Unseen Classes Across Domains\", y=1.03, fontsize=18)\n",
    "\n",
    "# Set axis and subplot titles\n",
    "g.set_axis_labels(\"Class Type\", \"Maximum Softmax Probability (MSP)\", fontsize=14)\n",
    "g.set_titles(\"Model: {col_name}\", fontsize=14)\n",
    "g.set(ylim=(-0.05, 1.05)) # Give a little space at the bottom\n",
    "\n",
    "# Move the legend outside the plot area to fix the overlap\n",
    "g.add_legend(title=\"Domain\", bbox_to_anchor=(1.02, 0.75))\n",
    "\n",
    "# Adjust layout to make space for the legend and title\n",
    "plt.tight_layout(rect=[0, 0, 1, 0.96])\n",
    "plt.show()\n",
    "\n",
    "# --- Print the summary table for precise numbers ---\n",
    "summary = df.groupby([\"Model\", \"Domain\", \"Class Type\"])[\"MSP\"].mean().unstack(level='Class Type')\n",
    "print(\"\\n--- Summary Table: Mean MSP ---\")\n",
    "print(summary)\n",
    "print(\"-\" * 35)"
   ]
  },
  {
   "cell_type": "markdown",
   "metadata": {},
   "source": [
    "# section 3.4: (part B)"
   ]
  },
  {
   "cell_type": "code",
   "execution_count": 48,
   "metadata": {},
   "outputs": [
    {
     "name": "stdout",
     "output_type": "stream",
     "text": [
      "\n",
      "============================================================\n",
      "PART 2: ANALYZING PROMPT SIMILARITY ACROSS DOMAINS\n",
      "============================================================\n",
      "Comparing the final learned prompts for:\n",
      "  - Source Domain: 'photo' (index 2)\n",
      "  - Target Domain: 'art_painting' (index 0)\n",
      "\n",
      "--- Result ---\n",
      "Cosine Similarity between source and target prompts: 0.4983\n",
      "\n",
      "--- Interpretation ---\n",
      "Result: Moderate Similarity.\n",
      "Indicates a noticeable domain gap. The model learned a shared base prompt but required significant domain-specific adjustments.\n"
     ]
    }
   ],
   "source": [
    "# Cell 6: Final Analysis - Prompt Similarity Across Domains\n",
    "\n",
    "def analyze_prompt_similarity(trained_params, cfg):\n",
    "    print(\"\\n\" + \"=\"*60)\n",
    "    print(\"PART 2: ANALYZING PROMPT SIMILARITY ACROSS DOMAINS\")\n",
    "    print(\"=\"*60)\n",
    "    \n",
    "    # Extract the learned parameters\n",
    "    ctx = trained_params[\"ctx\"]\n",
    "    domain_vectors = trained_params[\"domain_vectors\"]\n",
    "    \n",
    "    # Get the domain names and their mapping to indices from the config\n",
    "    domains = cfg[\"domains\"]\n",
    "    domain_map = {name: i for i, name in enumerate(domains)}\n",
    "    \n",
    "    # Get the specific source and target domains from our experiment\n",
    "    source_domain = cfg[\"open_set\"][\"training_pair\"][\"source\"]\n",
    "    target_domain = cfg[\"open_set\"][\"training_pair\"][\"target\"]\n",
    "    \n",
    "    source_idx = domain_map[source_domain]\n",
    "    target_idx = domain_map[target_domain]\n",
    "    \n",
    "    print(f\"Comparing the final learned prompts for:\")\n",
    "    print(f\"  - Source Domain: '{source_domain}' (index {source_idx})\")\n",
    "    print(f\"  - Target Domain: '{target_domain}' (index {target_idx})\")\n",
    "    \n",
    "    # --- Construct the full prompt vectors ---\n",
    "    # The full prompt is the concatenation of the shared part (ctx) and the domain-specific part.\n",
    "    # We need to flatten them to treat them as single vectors for similarity calculation.\n",
    "    \n",
    "    # Source prompt vector\n",
    "    prompt_source = torch.cat([\n",
    "        ctx.flatten(),\n",
    "        domain_vectors[source_idx].flatten()\n",
    "    ])\n",
    "    \n",
    "    # Target prompt vector\n",
    "    prompt_target = torch.cat([\n",
    "        ctx.flatten(),\n",
    "        domain_vectors[target_idx].flatten()\n",
    "    ])\n",
    "    \n",
    "    # --- Calculate Cosine Similarity ---\n",
    "    # Use torch.nn.functional.cosine_similarity\n",
    "    # We need to add a dimension with .unsqueeze(0) because the function expects batches.\n",
    "    similarity = F.cosine_similarity(prompt_source.unsqueeze(0), prompt_target.unsqueeze(0))\n",
    "    \n",
    "    # .item() extracts the scalar value from the tensor\n",
    "    similarity_value = similarity.item()\n",
    "    \n",
    "    print(\"\\n--- Result ---\")\n",
    "    print(f\"Cosine Similarity between source and target prompts: {similarity_value:.4f}\")\n",
    "    \n",
    "    # --- Interpretation ---\n",
    "    print(\"\\n--- Interpretation ---\")\n",
    "    if similarity_value > 0.8:\n",
    "        print(\"Result: High Similarity.\")\n",
    "        print(\"Indicates a small perceived domain gap. The model found that a very similar prompt works for both domains, requiring only minor tweaks.\")\n",
    "    elif similarity_value > 0.3:\n",
    "        print(\"Result: Moderate Similarity.\")\n",
    "        print(\"Indicates a noticeable domain gap. The model learned a shared base prompt but required significant domain-specific adjustments.\")\n",
    "    else:\n",
    "        print(\"Result: Low Similarity.\")\n",
    "        print(\"Indicates a large perceived domain gap. The model had to learn two substantially different 'perspectives' to handle the stylistic shift between the domains.\")\n",
    "\n",
    "# --- Run the analysis ---\n",
    "# Make sure `specialist_params` and `CONFIG_3_4` are available from the previous cells\n",
    "analyze_prompt_similarity(specialist_params, CONFIG_3_4)"
   ]
  }
 ],
 "metadata": {
  "kaggle": {
   "accelerator": "nvidiaTeslaT4",
   "dataSources": [
    {
     "datasetId": 8446344,
     "sourceId": 13323122,
     "sourceType": "datasetVersion"
    }
   ],
   "dockerImageVersionId": 31154,
   "isGpuEnabled": true,
   "isInternetEnabled": true,
   "language": "python",
   "sourceType": "notebook"
  },
  "kernelspec": {
   "display_name": "Python 3",
   "language": "python",
   "name": "python3"
  },
  "language_info": {
   "codemirror_mode": {
    "name": "ipython",
    "version": 3
   },
   "file_extension": ".py",
   "mimetype": "text/x-python",
   "name": "python",
   "nbconvert_exporter": "python",
   "pygments_lexer": "ipython3",
   "version": "3.11.9"
  }
 },
 "nbformat": 4,
 "nbformat_minor": 4
}
